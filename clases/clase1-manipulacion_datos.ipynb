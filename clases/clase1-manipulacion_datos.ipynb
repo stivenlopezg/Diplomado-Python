{
 "cells": [
  {
   "cell_type": "markdown",
   "metadata": {
    "collapsed": true,
    "pycharm": {
     "name": "#%% md\n"
    }
   },
   "source": [
    "## Carga de módulos (Librerías)"
   ]
  },
  {
   "cell_type": "code",
   "execution_count": 1,
   "outputs": [],
   "source": [
    "import numpy as np\n",
    "import pandas as pd\n",
    "import seaborn as sns\n",
    "import matplotlib.pyplot as plt"
   ],
   "metadata": {
    "collapsed": false,
    "pycharm": {
     "name": "#%%\n"
    }
   }
  },
  {
   "cell_type": "markdown",
   "metadata": {
    "pycharm": {
     "name": "#%% md\n"
    }
   },
   "source": [
    "### Inspeccionar un DataFrame\n",
    "\n",
    "Cuando tiene un DataFrame para trabajar, lo primero que debemos hacer es explorarlo y ver que contiene. Hay varios métodos y atributos para esto:\n",
    "\n",
    "* **.head()** devuelve las primeras filas del DataFrame\n",
    "* **.info()** muestra información sobre cada una de las columnas, como el tipo de datos y el número de valores missing (nulos).\n",
    "* **.shape** devuelve una tupla con el número de filas y columnas del DataFrame\n",
    "* **.describe()** calcula algunas estadísticas de resumen para cada columna."
   ]
  },
  {
   "cell_type": "code",
   "execution_count": 2,
   "outputs": [
    {
     "name": "stdout",
     "output_type": "stream",
     "text": [
      "El set de datos tiene 15000 observaciones, y 10 variables. \n",
      "\n"
     ]
    },
    {
     "data": {
      "text/plain": "  PatientID  Pregnancies  PlasmaGlucose  DiastolicBloodPressure  \\\n0   1354778            0            171                      80   \n1   1147438            8             92                      93   \n2   1640031            7            115                      47   \n3   1883350            9            103                      78   \n4   1424119            1             85                      59   \n\n   TricepsThickness  SerumInsulin        BMI  DiabetesPedigree  Age Diabetic  \n0                34            23  43.509726          1.213191   21        0  \n1                47            36  21.240576          0.158365   23        0  \n2                52            35  41.511523          0.079019   23        0  \n3                25           304  29.582192          1.282870   43        1  \n4                27            35  42.604536          0.549542   22        0  ",
      "text/html": "<div>\n<style scoped>\n    .dataframe tbody tr th:only-of-type {\n        vertical-align: middle;\n    }\n\n    .dataframe tbody tr th {\n        vertical-align: top;\n    }\n\n    .dataframe thead th {\n        text-align: right;\n    }\n</style>\n<table border=\"1\" class=\"dataframe\">\n  <thead>\n    <tr style=\"text-align: right;\">\n      <th></th>\n      <th>PatientID</th>\n      <th>Pregnancies</th>\n      <th>PlasmaGlucose</th>\n      <th>DiastolicBloodPressure</th>\n      <th>TricepsThickness</th>\n      <th>SerumInsulin</th>\n      <th>BMI</th>\n      <th>DiabetesPedigree</th>\n      <th>Age</th>\n      <th>Diabetic</th>\n    </tr>\n  </thead>\n  <tbody>\n    <tr>\n      <th>0</th>\n      <td>1354778</td>\n      <td>0</td>\n      <td>171</td>\n      <td>80</td>\n      <td>34</td>\n      <td>23</td>\n      <td>43.509726</td>\n      <td>1.213191</td>\n      <td>21</td>\n      <td>0</td>\n    </tr>\n    <tr>\n      <th>1</th>\n      <td>1147438</td>\n      <td>8</td>\n      <td>92</td>\n      <td>93</td>\n      <td>47</td>\n      <td>36</td>\n      <td>21.240576</td>\n      <td>0.158365</td>\n      <td>23</td>\n      <td>0</td>\n    </tr>\n    <tr>\n      <th>2</th>\n      <td>1640031</td>\n      <td>7</td>\n      <td>115</td>\n      <td>47</td>\n      <td>52</td>\n      <td>35</td>\n      <td>41.511523</td>\n      <td>0.079019</td>\n      <td>23</td>\n      <td>0</td>\n    </tr>\n    <tr>\n      <th>3</th>\n      <td>1883350</td>\n      <td>9</td>\n      <td>103</td>\n      <td>78</td>\n      <td>25</td>\n      <td>304</td>\n      <td>29.582192</td>\n      <td>1.282870</td>\n      <td>43</td>\n      <td>1</td>\n    </tr>\n    <tr>\n      <th>4</th>\n      <td>1424119</td>\n      <td>1</td>\n      <td>85</td>\n      <td>59</td>\n      <td>27</td>\n      <td>35</td>\n      <td>42.604536</td>\n      <td>0.549542</td>\n      <td>22</td>\n      <td>0</td>\n    </tr>\n  </tbody>\n</table>\n</div>"
     },
     "execution_count": 2,
     "metadata": {},
     "output_type": "execute_result"
    }
   ],
   "source": [
    "diabetes = pd.read_csv('https://raw.githubusercontent.com/stivenlopezg/Diplomado-Python/master/data/diabetes.csv',\n",
    "                       dtype={'PatientID': object, 'Diabetic': object})\n",
    "\n",
    "print(f'El set de datos tiene {diabetes.shape[0]} observaciones, y {diabetes.shape[1]} variables. \\n')\n",
    "diabetes.head()"
   ],
   "metadata": {
    "collapsed": false,
    "pycharm": {
     "name": "#%%\n"
    }
   }
  },
  {
   "cell_type": "code",
   "execution_count": 3,
   "outputs": [
    {
     "name": "stdout",
     "output_type": "stream",
     "text": [
      "<class 'pandas.core.frame.DataFrame'>\n",
      "RangeIndex: 15000 entries, 0 to 14999\n",
      "Data columns (total 10 columns):\n",
      " #   Column                  Non-Null Count  Dtype  \n",
      "---  ------                  --------------  -----  \n",
      " 0   PatientID               15000 non-null  object \n",
      " 1   Pregnancies             15000 non-null  int64  \n",
      " 2   PlasmaGlucose           15000 non-null  int64  \n",
      " 3   DiastolicBloodPressure  15000 non-null  int64  \n",
      " 4   TricepsThickness        15000 non-null  int64  \n",
      " 5   SerumInsulin            15000 non-null  int64  \n",
      " 6   BMI                     15000 non-null  float64\n",
      " 7   DiabetesPedigree        15000 non-null  float64\n",
      " 8   Age                     15000 non-null  int64  \n",
      " 9   Diabetic                15000 non-null  object \n",
      "dtypes: float64(2), int64(6), object(2)\n",
      "memory usage: 1.1+ MB\n"
     ]
    }
   ],
   "source": [
    "diabetes.info()"
   ],
   "metadata": {
    "collapsed": false,
    "pycharm": {
     "name": "#%%\n"
    }
   }
  },
  {
   "cell_type": "code",
   "execution_count": 4,
   "outputs": [
    {
     "data": {
      "text/plain": "        Pregnancies  PlasmaGlucose  DiastolicBloodPressure  TricepsThickness  \\\ncount  15000.000000   15000.000000            15000.000000      15000.000000   \nmean       3.224533     107.856867               71.220667         28.814000   \nstd        3.391020      31.981975               16.758716         14.555716   \nmin        0.000000      44.000000               24.000000          7.000000   \n25%        0.000000      84.000000               58.000000         15.000000   \n50%        2.000000     104.000000               72.000000         31.000000   \n75%        6.000000     129.000000               85.000000         41.000000   \nmax       14.000000     192.000000              117.000000         93.000000   \n\n       SerumInsulin           BMI  DiabetesPedigree           Age  \ncount  15000.000000  15000.000000      15000.000000  15000.000000  \nmean     137.852133     31.509646          0.398968     30.137733  \nstd      133.068252      9.759000          0.377944     12.089703  \nmin       14.000000     18.200512          0.078044     21.000000  \n25%       39.000000     21.259887          0.137743     22.000000  \n50%       83.000000     31.767940          0.200297     24.000000  \n75%      195.000000     39.259692          0.616285     35.000000  \nmax      799.000000     56.034628          2.301594     77.000000  ",
      "text/html": "<div>\n<style scoped>\n    .dataframe tbody tr th:only-of-type {\n        vertical-align: middle;\n    }\n\n    .dataframe tbody tr th {\n        vertical-align: top;\n    }\n\n    .dataframe thead th {\n        text-align: right;\n    }\n</style>\n<table border=\"1\" class=\"dataframe\">\n  <thead>\n    <tr style=\"text-align: right;\">\n      <th></th>\n      <th>Pregnancies</th>\n      <th>PlasmaGlucose</th>\n      <th>DiastolicBloodPressure</th>\n      <th>TricepsThickness</th>\n      <th>SerumInsulin</th>\n      <th>BMI</th>\n      <th>DiabetesPedigree</th>\n      <th>Age</th>\n    </tr>\n  </thead>\n  <tbody>\n    <tr>\n      <th>count</th>\n      <td>15000.000000</td>\n      <td>15000.000000</td>\n      <td>15000.000000</td>\n      <td>15000.000000</td>\n      <td>15000.000000</td>\n      <td>15000.000000</td>\n      <td>15000.000000</td>\n      <td>15000.000000</td>\n    </tr>\n    <tr>\n      <th>mean</th>\n      <td>3.224533</td>\n      <td>107.856867</td>\n      <td>71.220667</td>\n      <td>28.814000</td>\n      <td>137.852133</td>\n      <td>31.509646</td>\n      <td>0.398968</td>\n      <td>30.137733</td>\n    </tr>\n    <tr>\n      <th>std</th>\n      <td>3.391020</td>\n      <td>31.981975</td>\n      <td>16.758716</td>\n      <td>14.555716</td>\n      <td>133.068252</td>\n      <td>9.759000</td>\n      <td>0.377944</td>\n      <td>12.089703</td>\n    </tr>\n    <tr>\n      <th>min</th>\n      <td>0.000000</td>\n      <td>44.000000</td>\n      <td>24.000000</td>\n      <td>7.000000</td>\n      <td>14.000000</td>\n      <td>18.200512</td>\n      <td>0.078044</td>\n      <td>21.000000</td>\n    </tr>\n    <tr>\n      <th>25%</th>\n      <td>0.000000</td>\n      <td>84.000000</td>\n      <td>58.000000</td>\n      <td>15.000000</td>\n      <td>39.000000</td>\n      <td>21.259887</td>\n      <td>0.137743</td>\n      <td>22.000000</td>\n    </tr>\n    <tr>\n      <th>50%</th>\n      <td>2.000000</td>\n      <td>104.000000</td>\n      <td>72.000000</td>\n      <td>31.000000</td>\n      <td>83.000000</td>\n      <td>31.767940</td>\n      <td>0.200297</td>\n      <td>24.000000</td>\n    </tr>\n    <tr>\n      <th>75%</th>\n      <td>6.000000</td>\n      <td>129.000000</td>\n      <td>85.000000</td>\n      <td>41.000000</td>\n      <td>195.000000</td>\n      <td>39.259692</td>\n      <td>0.616285</td>\n      <td>35.000000</td>\n    </tr>\n    <tr>\n      <th>max</th>\n      <td>14.000000</td>\n      <td>192.000000</td>\n      <td>117.000000</td>\n      <td>93.000000</td>\n      <td>799.000000</td>\n      <td>56.034628</td>\n      <td>2.301594</td>\n      <td>77.000000</td>\n    </tr>\n  </tbody>\n</table>\n</div>"
     },
     "execution_count": 4,
     "metadata": {},
     "output_type": "execute_result"
    }
   ],
   "source": [
    "diabetes.describe()"
   ],
   "metadata": {
    "collapsed": false,
    "pycharm": {
     "name": "#%%\n"
    }
   }
  },
  {
   "cell_type": "code",
   "execution_count": 5,
   "outputs": [
    {
     "data": {
      "text/plain": "       PatientID Diabetic\ncount      15000    15000\nunique     14895        2\ntop      1758462        0\nfreq           2    10000",
      "text/html": "<div>\n<style scoped>\n    .dataframe tbody tr th:only-of-type {\n        vertical-align: middle;\n    }\n\n    .dataframe tbody tr th {\n        vertical-align: top;\n    }\n\n    .dataframe thead th {\n        text-align: right;\n    }\n</style>\n<table border=\"1\" class=\"dataframe\">\n  <thead>\n    <tr style=\"text-align: right;\">\n      <th></th>\n      <th>PatientID</th>\n      <th>Diabetic</th>\n    </tr>\n  </thead>\n  <tbody>\n    <tr>\n      <th>count</th>\n      <td>15000</td>\n      <td>15000</td>\n    </tr>\n    <tr>\n      <th>unique</th>\n      <td>14895</td>\n      <td>2</td>\n    </tr>\n    <tr>\n      <th>top</th>\n      <td>1758462</td>\n      <td>0</td>\n    </tr>\n    <tr>\n      <th>freq</th>\n      <td>2</td>\n      <td>10000</td>\n    </tr>\n  </tbody>\n</table>\n</div>"
     },
     "execution_count": 5,
     "metadata": {},
     "output_type": "execute_result"
    }
   ],
   "source": [
    "diabetes.describe(exclude='number')"
   ],
   "metadata": {
    "collapsed": false,
    "pycharm": {
     "name": "#%%\n"
    }
   }
  },
  {
   "cell_type": "code",
   "execution_count": 6,
   "outputs": [
    {
     "data": {
      "text/plain": "      PatientID  Pregnancies  PlasmaGlucose  DiastolicBloodPressure  \\\n11499   1763065            7             93                      86   \n6475    1814475            1             98                      62   \n13167   1473525            1             70                      86   \n862     1123081            3            135                      70   \n5970    1479105            1            139                      94   \n\n       TricepsThickness  SerumInsulin        BMI  DiabetesPedigree  Age  \\\n11499                16            49  45.327927          0.204736   24   \n6475                 13            58  29.712845          0.087436   34   \n13167                11            50  40.657364          0.492743   22   \n862                  19            27  50.915305          0.111574   21   \n5970                  7            15  34.524436          0.122165   26   \n\n      Diabetic  \n11499        0  \n6475         1  \n13167        0  \n862          0  \n5970         0  ",
      "text/html": "<div>\n<style scoped>\n    .dataframe tbody tr th:only-of-type {\n        vertical-align: middle;\n    }\n\n    .dataframe tbody tr th {\n        vertical-align: top;\n    }\n\n    .dataframe thead th {\n        text-align: right;\n    }\n</style>\n<table border=\"1\" class=\"dataframe\">\n  <thead>\n    <tr style=\"text-align: right;\">\n      <th></th>\n      <th>PatientID</th>\n      <th>Pregnancies</th>\n      <th>PlasmaGlucose</th>\n      <th>DiastolicBloodPressure</th>\n      <th>TricepsThickness</th>\n      <th>SerumInsulin</th>\n      <th>BMI</th>\n      <th>DiabetesPedigree</th>\n      <th>Age</th>\n      <th>Diabetic</th>\n    </tr>\n  </thead>\n  <tbody>\n    <tr>\n      <th>11499</th>\n      <td>1763065</td>\n      <td>7</td>\n      <td>93</td>\n      <td>86</td>\n      <td>16</td>\n      <td>49</td>\n      <td>45.327927</td>\n      <td>0.204736</td>\n      <td>24</td>\n      <td>0</td>\n    </tr>\n    <tr>\n      <th>6475</th>\n      <td>1814475</td>\n      <td>1</td>\n      <td>98</td>\n      <td>62</td>\n      <td>13</td>\n      <td>58</td>\n      <td>29.712845</td>\n      <td>0.087436</td>\n      <td>34</td>\n      <td>1</td>\n    </tr>\n    <tr>\n      <th>13167</th>\n      <td>1473525</td>\n      <td>1</td>\n      <td>70</td>\n      <td>86</td>\n      <td>11</td>\n      <td>50</td>\n      <td>40.657364</td>\n      <td>0.492743</td>\n      <td>22</td>\n      <td>0</td>\n    </tr>\n    <tr>\n      <th>862</th>\n      <td>1123081</td>\n      <td>3</td>\n      <td>135</td>\n      <td>70</td>\n      <td>19</td>\n      <td>27</td>\n      <td>50.915305</td>\n      <td>0.111574</td>\n      <td>21</td>\n      <td>0</td>\n    </tr>\n    <tr>\n      <th>5970</th>\n      <td>1479105</td>\n      <td>1</td>\n      <td>139</td>\n      <td>94</td>\n      <td>7</td>\n      <td>15</td>\n      <td>34.524436</td>\n      <td>0.122165</td>\n      <td>26</td>\n      <td>0</td>\n    </tr>\n  </tbody>\n</table>\n</div>"
     },
     "execution_count": 6,
     "metadata": {},
     "output_type": "execute_result"
    }
   ],
   "source": [
    "diabetes.sample(n=5, random_state=42)"
   ],
   "metadata": {
    "collapsed": false,
    "pycharm": {
     "name": "#%%\n"
    }
   }
  },
  {
   "cell_type": "markdown",
   "metadata": {
    "pycharm": {
     "name": "#%% md\n"
    }
   },
   "source": [
    "El conjunto de datos tiene 11 variables y 15000 registros, donde estas variables son:\n",
    "\n",
    "* *PatientID*: El ID del paciente.\n",
    "* *Pregnancies*: El número de embarazos.\n",
    "* *PlasmaGlucose*: Concentración de glucosa a 2 horas, en una prueba de tolerancia oral a la glucosa.\n",
    "* *DiastolicBloodPressure*: Presión arterial diastólica.\n",
    "* *TricepsThickness*: Espesor del pliegue cutaneo del triceps.\n",
    "* *SerumInsulin*: Insulina Sérica de dos horas.\n",
    "* *BMI*: Indice de masa corporal.\n",
    "* *DiabetesPedigree*: Función pedigree de la diabetes.\n",
    "* *Age*: Edad expresada en años.\n",
    "* *Diabetic*: Si la persona tiene diabetes o no (Si=1, No=0).\n",
    "\n",
    "### Partes de un DataFrame\n",
    "\n",
    "Es útil saber que los DataFrames constan de tres componentes, almacenados como atributos:\n",
    "\n",
    "* **.values**: Una matriz de valores *Numpy* bidimensional.\n",
    "* **.columns**: Un índice de columnas: los nombres de las columnas.\n",
    "* **.index**: Un índice para las filas: números de fila o nombres de fila."
   ]
  },
  {
   "cell_type": "code",
   "execution_count": 7,
   "outputs": [
    {
     "data": {
      "text/plain": "array([['1354778', 0, 171, ..., 1.213191354, 21, '0'],\n       ['1147438', 8, 92, ..., 0.158364981, 23, '0'],\n       ['1640031', 7, 115, ..., 0.079018568, 23, '0'],\n       ...,\n       ['1742742', 0, 93, ..., 0.427048955, 24, '0'],\n       ['1099353', 0, 132, ..., 0.302257208, 23, '0'],\n       ['1386396', 3, 114, ..., 0.14736285, 34, '1']], dtype=object)"
     },
     "execution_count": 7,
     "metadata": {},
     "output_type": "execute_result"
    }
   ],
   "source": [
    "diabetes.values"
   ],
   "metadata": {
    "collapsed": false,
    "pycharm": {
     "name": "#%%\n"
    }
   }
  },
  {
   "cell_type": "code",
   "execution_count": 8,
   "outputs": [],
   "source": [
    "# diabetes.index = diabetes['PatientID']\n",
    "diabetes.set_index('PatientID', inplace=True)"
   ],
   "metadata": {
    "collapsed": false,
    "pycharm": {
     "name": "#%%\n"
    }
   }
  },
  {
   "cell_type": "code",
   "execution_count": 9,
   "outputs": [
    {
     "data": {
      "text/plain": "Index(['Pregnancies', 'PlasmaGlucose', 'DiastolicBloodPressure',\n       'TricepsThickness', 'SerumInsulin', 'BMI', 'DiabetesPedigree', 'Age',\n       'Diabetic'],\n      dtype='object')"
     },
     "execution_count": 9,
     "metadata": {},
     "output_type": "execute_result"
    }
   ],
   "source": [
    "diabetes.columns"
   ],
   "metadata": {
    "collapsed": false,
    "pycharm": {
     "name": "#%%\n"
    }
   }
  },
  {
   "cell_type": "code",
   "execution_count": 10,
   "outputs": [
    {
     "data": {
      "text/plain": "Index(['1354778', '1147438', '1640031', '1883350', '1424119', '1619297',\n       '1660149', '1458769', '1201647', '1403912',\n       ...\n       '1220763', '1603490', '1202654', '1165919', '1453189', '1490300',\n       '1744410', '1742742', '1099353', '1386396'],\n      dtype='object', name='PatientID', length=15000)"
     },
     "execution_count": 10,
     "metadata": {},
     "output_type": "execute_result"
    }
   ],
   "source": [
    "diabetes.index"
   ],
   "metadata": {
    "collapsed": false,
    "pycharm": {
     "name": "#%%\n"
    }
   }
  },
  {
   "cell_type": "markdown",
   "metadata": {
    "pycharm": {
     "name": "#%% md\n"
    }
   },
   "source": [
    "### Ordenar filas\n",
    "\n",
    "Para entender un poco más los datos, podemos ordenar las filas usando el método **.sort_values()**."
   ]
  },
  {
   "cell_type": "code",
   "execution_count": 11,
   "metadata": {
    "pycharm": {
     "name": "#%%\n"
    }
   },
   "outputs": [
    {
     "data": {
      "text/plain": "           Pregnancies  PlasmaGlucose  DiastolicBloodPressure  \\\nPatientID                                                       \n1628533              9             86                      58   \n1879781              1             86                      61   \n1208887              1             89                      81   \n1209324              6            134                      64   \n1209326              1             70                      82   \n\n           TricepsThickness  SerumInsulin        BMI  DiabetesPedigree  Age  \\\nPatientID                                                                     \n1628533                  32            27  39.484717          0.178700   21   \n1879781                  56            31  39.008252          0.101323   21   \n1208887                  12            33  43.548543          0.178823   21   \n1209324                  11           140  32.375979          0.567238   21   \n1209326                  46            35  20.861974          0.136347   21   \n\n          Diabetic  \nPatientID           \n1628533          0  \n1879781          0  \n1208887          0  \n1209324          1  \n1209326          0  ",
      "text/html": "<div>\n<style scoped>\n    .dataframe tbody tr th:only-of-type {\n        vertical-align: middle;\n    }\n\n    .dataframe tbody tr th {\n        vertical-align: top;\n    }\n\n    .dataframe thead th {\n        text-align: right;\n    }\n</style>\n<table border=\"1\" class=\"dataframe\">\n  <thead>\n    <tr style=\"text-align: right;\">\n      <th></th>\n      <th>Pregnancies</th>\n      <th>PlasmaGlucose</th>\n      <th>DiastolicBloodPressure</th>\n      <th>TricepsThickness</th>\n      <th>SerumInsulin</th>\n      <th>BMI</th>\n      <th>DiabetesPedigree</th>\n      <th>Age</th>\n      <th>Diabetic</th>\n    </tr>\n    <tr>\n      <th>PatientID</th>\n      <th></th>\n      <th></th>\n      <th></th>\n      <th></th>\n      <th></th>\n      <th></th>\n      <th></th>\n      <th></th>\n      <th></th>\n    </tr>\n  </thead>\n  <tbody>\n    <tr>\n      <th>1628533</th>\n      <td>9</td>\n      <td>86</td>\n      <td>58</td>\n      <td>32</td>\n      <td>27</td>\n      <td>39.484717</td>\n      <td>0.178700</td>\n      <td>21</td>\n      <td>0</td>\n    </tr>\n    <tr>\n      <th>1879781</th>\n      <td>1</td>\n      <td>86</td>\n      <td>61</td>\n      <td>56</td>\n      <td>31</td>\n      <td>39.008252</td>\n      <td>0.101323</td>\n      <td>21</td>\n      <td>0</td>\n    </tr>\n    <tr>\n      <th>1208887</th>\n      <td>1</td>\n      <td>89</td>\n      <td>81</td>\n      <td>12</td>\n      <td>33</td>\n      <td>43.548543</td>\n      <td>0.178823</td>\n      <td>21</td>\n      <td>0</td>\n    </tr>\n    <tr>\n      <th>1209324</th>\n      <td>6</td>\n      <td>134</td>\n      <td>64</td>\n      <td>11</td>\n      <td>140</td>\n      <td>32.375979</td>\n      <td>0.567238</td>\n      <td>21</td>\n      <td>1</td>\n    </tr>\n    <tr>\n      <th>1209326</th>\n      <td>1</td>\n      <td>70</td>\n      <td>82</td>\n      <td>46</td>\n      <td>35</td>\n      <td>20.861974</td>\n      <td>0.136347</td>\n      <td>21</td>\n      <td>0</td>\n    </tr>\n  </tbody>\n</table>\n</div>"
     },
     "execution_count": 11,
     "metadata": {},
     "output_type": "execute_result"
    }
   ],
   "source": [
    "diabetes.sort_index(inplace=True)\n",
    "diabetes = diabetes.sort_values(by=['Age'], ascending=[True])\n",
    "\n",
    "diabetes.head()"
   ]
  },
  {
   "cell_type": "markdown",
   "metadata": {
    "pycharm": {
     "name": "#%% md\n"
    }
   },
   "source": [
    "### Seleccionar columnas\n",
    "\n",
    "En muchas ocasiones no necesitará todas las variables en su set de datos, o incluso experimentará con unas pocas. Los corchetes (**[]**) se pueden utilizar para seleccionar solo las columnas de interés. Por ejemplo, para seleccionar la columna `salary` del DataFrame `data`, puede hacer lo siguiente: `data[\"salary\"]`"
   ]
  },
  {
   "cell_type": "code",
   "execution_count": 12,
   "metadata": {
    "pycharm": {
     "name": "#%%\n"
    }
   },
   "outputs": [
    {
     "data": {
      "text/plain": "           Age Diabetic\nPatientID              \n1784026     28        1\n1040847     28        1\n1002470     28        1\n1713011     28        1\n1225802     28        1\n1257312     28        1\n1713155     28        1\n1060827     28        1\n1238494     28        1\n1771543     28        1\n1182672     28        1",
      "text/html": "<div>\n<style scoped>\n    .dataframe tbody tr th:only-of-type {\n        vertical-align: middle;\n    }\n\n    .dataframe tbody tr th {\n        vertical-align: top;\n    }\n\n    .dataframe thead th {\n        text-align: right;\n    }\n</style>\n<table border=\"1\" class=\"dataframe\">\n  <thead>\n    <tr style=\"text-align: right;\">\n      <th></th>\n      <th>Age</th>\n      <th>Diabetic</th>\n    </tr>\n    <tr>\n      <th>PatientID</th>\n      <th></th>\n      <th></th>\n    </tr>\n  </thead>\n  <tbody>\n    <tr>\n      <th>1784026</th>\n      <td>28</td>\n      <td>1</td>\n    </tr>\n    <tr>\n      <th>1040847</th>\n      <td>28</td>\n      <td>1</td>\n    </tr>\n    <tr>\n      <th>1002470</th>\n      <td>28</td>\n      <td>1</td>\n    </tr>\n    <tr>\n      <th>1713011</th>\n      <td>28</td>\n      <td>1</td>\n    </tr>\n    <tr>\n      <th>1225802</th>\n      <td>28</td>\n      <td>1</td>\n    </tr>\n    <tr>\n      <th>1257312</th>\n      <td>28</td>\n      <td>1</td>\n    </tr>\n    <tr>\n      <th>1713155</th>\n      <td>28</td>\n      <td>1</td>\n    </tr>\n    <tr>\n      <th>1060827</th>\n      <td>28</td>\n      <td>1</td>\n    </tr>\n    <tr>\n      <th>1238494</th>\n      <td>28</td>\n      <td>1</td>\n    </tr>\n    <tr>\n      <th>1771543</th>\n      <td>28</td>\n      <td>1</td>\n    </tr>\n    <tr>\n      <th>1182672</th>\n      <td>28</td>\n      <td>1</td>\n    </tr>\n  </tbody>\n</table>\n</div>"
     },
     "execution_count": 12,
     "metadata": {},
     "output_type": "execute_result"
    }
   ],
   "source": [
    "# diabetes.Diabetic\n",
    "# diabetes['Diabetic']\n",
    "# diabetes[['Age', 'Diabetic']].sample()\n",
    "diabetes.loc[(diabetes['Age'] == 28) & (diabetes['PlasmaGlucose'] < 104), ['Age', 'Diabetic']]"
   ]
  },
  {
   "cell_type": "code",
   "execution_count": 13,
   "outputs": [
    {
     "data": {
      "text/plain": "           Pregnancies  PlasmaGlucose  DiastolicBloodPressure  \\\nPatientID                                                       \n1628533              9             86                      58   \n1879781              1             86                      61   \n1208887              1             89                      81   \n1209326              1             70                      82   \n1703348              9             76                      59   \n...                ...            ...                     ...   \n1605313              7             92                      80   \n1032359              9             95                      59   \n1247294              7             91                      52   \n1241498              0             51                      54   \n1438520              1             72                      87   \n\n           TricepsThickness  SerumInsulin        BMI  DiabetesPedigree  Age  \\\nPatientID                                                                     \n1628533                  32            27  39.484717          0.178700   21   \n1879781                  56            31  39.008252          0.101323   21   \n1208887                  12            33  43.548543          0.178823   21   \n1209326                  46            35  20.861974          0.136347   21   \n1703348                  17            22  22.039984          1.135634   21   \n...                     ...           ...        ...               ...  ...   \n1605313                  10            41  44.029707          0.634594   76   \n1032359                  42            15  20.595198          0.244552   76   \n1247294                  41            70  28.945416          0.115246   76   \n1241498                  34            48  30.000624          0.175144   77   \n1438520                  23            75  37.071192          0.113432   77   \n\n          Diabetic  \nPatientID           \n1628533          0  \n1879781          0  \n1208887          0  \n1209326          0  \n1703348          0  \n...            ...  \n1605313          0  \n1032359          0  \n1247294          0  \n1241498          0  \n1438520          0  \n\n[7326 rows x 9 columns]",
      "text/html": "<div>\n<style scoped>\n    .dataframe tbody tr th:only-of-type {\n        vertical-align: middle;\n    }\n\n    .dataframe tbody tr th {\n        vertical-align: top;\n    }\n\n    .dataframe thead th {\n        text-align: right;\n    }\n</style>\n<table border=\"1\" class=\"dataframe\">\n  <thead>\n    <tr style=\"text-align: right;\">\n      <th></th>\n      <th>Pregnancies</th>\n      <th>PlasmaGlucose</th>\n      <th>DiastolicBloodPressure</th>\n      <th>TricepsThickness</th>\n      <th>SerumInsulin</th>\n      <th>BMI</th>\n      <th>DiabetesPedigree</th>\n      <th>Age</th>\n      <th>Diabetic</th>\n    </tr>\n    <tr>\n      <th>PatientID</th>\n      <th></th>\n      <th></th>\n      <th></th>\n      <th></th>\n      <th></th>\n      <th></th>\n      <th></th>\n      <th></th>\n      <th></th>\n    </tr>\n  </thead>\n  <tbody>\n    <tr>\n      <th>1628533</th>\n      <td>9</td>\n      <td>86</td>\n      <td>58</td>\n      <td>32</td>\n      <td>27</td>\n      <td>39.484717</td>\n      <td>0.178700</td>\n      <td>21</td>\n      <td>0</td>\n    </tr>\n    <tr>\n      <th>1879781</th>\n      <td>1</td>\n      <td>86</td>\n      <td>61</td>\n      <td>56</td>\n      <td>31</td>\n      <td>39.008252</td>\n      <td>0.101323</td>\n      <td>21</td>\n      <td>0</td>\n    </tr>\n    <tr>\n      <th>1208887</th>\n      <td>1</td>\n      <td>89</td>\n      <td>81</td>\n      <td>12</td>\n      <td>33</td>\n      <td>43.548543</td>\n      <td>0.178823</td>\n      <td>21</td>\n      <td>0</td>\n    </tr>\n    <tr>\n      <th>1209326</th>\n      <td>1</td>\n      <td>70</td>\n      <td>82</td>\n      <td>46</td>\n      <td>35</td>\n      <td>20.861974</td>\n      <td>0.136347</td>\n      <td>21</td>\n      <td>0</td>\n    </tr>\n    <tr>\n      <th>1703348</th>\n      <td>9</td>\n      <td>76</td>\n      <td>59</td>\n      <td>17</td>\n      <td>22</td>\n      <td>22.039984</td>\n      <td>1.135634</td>\n      <td>21</td>\n      <td>0</td>\n    </tr>\n    <tr>\n      <th>...</th>\n      <td>...</td>\n      <td>...</td>\n      <td>...</td>\n      <td>...</td>\n      <td>...</td>\n      <td>...</td>\n      <td>...</td>\n      <td>...</td>\n      <td>...</td>\n    </tr>\n    <tr>\n      <th>1605313</th>\n      <td>7</td>\n      <td>92</td>\n      <td>80</td>\n      <td>10</td>\n      <td>41</td>\n      <td>44.029707</td>\n      <td>0.634594</td>\n      <td>76</td>\n      <td>0</td>\n    </tr>\n    <tr>\n      <th>1032359</th>\n      <td>9</td>\n      <td>95</td>\n      <td>59</td>\n      <td>42</td>\n      <td>15</td>\n      <td>20.595198</td>\n      <td>0.244552</td>\n      <td>76</td>\n      <td>0</td>\n    </tr>\n    <tr>\n      <th>1247294</th>\n      <td>7</td>\n      <td>91</td>\n      <td>52</td>\n      <td>41</td>\n      <td>70</td>\n      <td>28.945416</td>\n      <td>0.115246</td>\n      <td>76</td>\n      <td>0</td>\n    </tr>\n    <tr>\n      <th>1241498</th>\n      <td>0</td>\n      <td>51</td>\n      <td>54</td>\n      <td>34</td>\n      <td>48</td>\n      <td>30.000624</td>\n      <td>0.175144</td>\n      <td>77</td>\n      <td>0</td>\n    </tr>\n    <tr>\n      <th>1438520</th>\n      <td>1</td>\n      <td>72</td>\n      <td>87</td>\n      <td>23</td>\n      <td>75</td>\n      <td>37.071192</td>\n      <td>0.113432</td>\n      <td>77</td>\n      <td>0</td>\n    </tr>\n  </tbody>\n</table>\n<p>7326 rows × 9 columns</p>\n</div>"
     },
     "execution_count": 13,
     "metadata": {},
     "output_type": "execute_result"
    }
   ],
   "source": [
    "diabetes.query('PlasmaGlucose < 104')"
   ],
   "metadata": {
    "collapsed": false,
    "pycharm": {
     "name": "#%%\n"
    }
   }
  },
  {
   "cell_type": "markdown",
   "metadata": {
    "pycharm": {
     "name": "#%% md\n"
    }
   },
   "source": [
    "### Seleccionar filas\n",
    "\n",
    "Para encontrar un subconjunto de filas que coincida con algún criterio, quizás la forma más común es usar operadores lógicosque devuelvan **True** o **False** para cada fila, y luego pasarlo entre corchetes."
   ]
  },
  {
   "cell_type": "code",
   "execution_count": 14,
   "metadata": {
    "pycharm": {
     "name": "#%%\n"
    }
   },
   "outputs": [
    {
     "data": {
      "text/plain": "['1898914',\n '1026705',\n '1495489',\n '1532436',\n '1178223',\n '1101741',\n '1646716',\n '1335573',\n '1163345',\n '1641132']"
     },
     "execution_count": 14,
     "metadata": {},
     "output_type": "execute_result"
    }
   ],
   "source": [
    "# diabetes.iloc[[10, 11, 66], [5, 6, 7]]\n",
    "\n",
    "indices = diabetes.sample(n=10, random_state=42).index.tolist()\n",
    "indices"
   ]
  },
  {
   "cell_type": "code",
   "execution_count": 15,
   "outputs": [
    {
     "data": {
      "text/plain": "Pregnancies                0\nPlasmaGlucose             10\nDiastolicBloodPressure     0\nTricepsThickness           0\nSerumInsulin               0\nBMI                        0\nDiabetesPedigree           0\nAge                        0\nDiabetic                   0\ndtype: int64"
     },
     "execution_count": 15,
     "metadata": {},
     "output_type": "execute_result"
    }
   ],
   "source": [
    "diabetes.loc[indices, 'PlasmaGlucose'] = np.nan\n",
    "\n",
    "diabetes.isna().sum()"
   ],
   "metadata": {
    "collapsed": false,
    "pycharm": {
     "name": "#%%\n"
    }
   }
  },
  {
   "cell_type": "markdown",
   "metadata": {
    "pycharm": {
     "name": "#%% md\n"
    }
   },
   "source": [
    "### Agregar nuevas columnas\n",
    "\n",
    "Una de las prácticas más comunes es agregar nuevas columnas a un DataFrame. Esta etapa en el proceso de construir un modelo usando algoritmos de Machine Learning o estadísticos se llama ingeniería de características.\n",
    "\n",
    "Podemos crear columnas desde cero, o derivarla de otra columna, por ejemplo, agregando columnas o cambiando sus unidades."
   ]
  },
  {
   "cell_type": "code",
   "execution_count": 16,
   "outputs": [],
   "source": [
    "import time"
   ],
   "metadata": {
    "collapsed": false,
    "pycharm": {
     "name": "#%%\n"
    }
   }
  },
  {
   "cell_type": "code",
   "execution_count": 17,
   "outputs": [
    {
     "data": {
      "text/plain": "0.003006458282470703"
     },
     "execution_count": 17,
     "metadata": {},
     "output_type": "execute_result"
    }
   ],
   "source": [
    "start = time.time()\n",
    "\n",
    "diabetes['diabetes_apply'] = diabetes['Diabetic'].apply(lambda x: 'Si' if x == '1' else 'No')\n",
    "\n",
    "end = time.time() - start\n",
    "end"
   ],
   "metadata": {
    "collapsed": false,
    "pycharm": {
     "name": "#%%\n"
    }
   }
  },
  {
   "cell_type": "code",
   "execution_count": 18,
   "outputs": [
    {
     "data": {
      "text/plain": "0.0029981136322021484"
     },
     "execution_count": 18,
     "metadata": {},
     "output_type": "execute_result"
    }
   ],
   "source": [
    "start = time.time()\n",
    "\n",
    "diabetes['diabetes_map'] = diabetes['Diabetic'].map({'0': 'No', '1': 'Si'})\n",
    "\n",
    "end = time.time() - start\n",
    "end"
   ],
   "metadata": {
    "collapsed": false,
    "pycharm": {
     "name": "#%%\n"
    }
   }
  },
  {
   "cell_type": "code",
   "execution_count": 19,
   "outputs": [
    {
     "data": {
      "text/plain": "           Pregnancies  PlasmaGlucose  DiastolicBloodPressure  \\\nPatientID                                                       \n1628533              9           86.0                      58   \n1879781              1           86.0                      61   \n1208887              1           89.0                      81   \n1209324              6          134.0                      64   \n1209326              1           70.0                      82   \n\n           TricepsThickness  SerumInsulin        BMI  DiabetesPedigree  Age  \\\nPatientID                                                                     \n1628533                  32            27  39.484717          0.178700   21   \n1879781                  56            31  39.008252          0.101323   21   \n1208887                  12            33  43.548543          0.178823   21   \n1209324                  11           140  32.375979          0.567238   21   \n1209326                  46            35  20.861974          0.136347   21   \n\n          Diabetic diabetes_apply diabetes_map  \nPatientID                                       \n1628533          0             No           No  \n1879781          0             No           No  \n1208887          0             No           No  \n1209324          1             Si           Si  \n1209326          0             No           No  ",
      "text/html": "<div>\n<style scoped>\n    .dataframe tbody tr th:only-of-type {\n        vertical-align: middle;\n    }\n\n    .dataframe tbody tr th {\n        vertical-align: top;\n    }\n\n    .dataframe thead th {\n        text-align: right;\n    }\n</style>\n<table border=\"1\" class=\"dataframe\">\n  <thead>\n    <tr style=\"text-align: right;\">\n      <th></th>\n      <th>Pregnancies</th>\n      <th>PlasmaGlucose</th>\n      <th>DiastolicBloodPressure</th>\n      <th>TricepsThickness</th>\n      <th>SerumInsulin</th>\n      <th>BMI</th>\n      <th>DiabetesPedigree</th>\n      <th>Age</th>\n      <th>Diabetic</th>\n      <th>diabetes_apply</th>\n      <th>diabetes_map</th>\n    </tr>\n    <tr>\n      <th>PatientID</th>\n      <th></th>\n      <th></th>\n      <th></th>\n      <th></th>\n      <th></th>\n      <th></th>\n      <th></th>\n      <th></th>\n      <th></th>\n      <th></th>\n      <th></th>\n    </tr>\n  </thead>\n  <tbody>\n    <tr>\n      <th>1628533</th>\n      <td>9</td>\n      <td>86.0</td>\n      <td>58</td>\n      <td>32</td>\n      <td>27</td>\n      <td>39.484717</td>\n      <td>0.178700</td>\n      <td>21</td>\n      <td>0</td>\n      <td>No</td>\n      <td>No</td>\n    </tr>\n    <tr>\n      <th>1879781</th>\n      <td>1</td>\n      <td>86.0</td>\n      <td>61</td>\n      <td>56</td>\n      <td>31</td>\n      <td>39.008252</td>\n      <td>0.101323</td>\n      <td>21</td>\n      <td>0</td>\n      <td>No</td>\n      <td>No</td>\n    </tr>\n    <tr>\n      <th>1208887</th>\n      <td>1</td>\n      <td>89.0</td>\n      <td>81</td>\n      <td>12</td>\n      <td>33</td>\n      <td>43.548543</td>\n      <td>0.178823</td>\n      <td>21</td>\n      <td>0</td>\n      <td>No</td>\n      <td>No</td>\n    </tr>\n    <tr>\n      <th>1209324</th>\n      <td>6</td>\n      <td>134.0</td>\n      <td>64</td>\n      <td>11</td>\n      <td>140</td>\n      <td>32.375979</td>\n      <td>0.567238</td>\n      <td>21</td>\n      <td>1</td>\n      <td>Si</td>\n      <td>Si</td>\n    </tr>\n    <tr>\n      <th>1209326</th>\n      <td>1</td>\n      <td>70.0</td>\n      <td>82</td>\n      <td>46</td>\n      <td>35</td>\n      <td>20.861974</td>\n      <td>0.136347</td>\n      <td>21</td>\n      <td>0</td>\n      <td>No</td>\n      <td>No</td>\n    </tr>\n  </tbody>\n</table>\n</div>"
     },
     "execution_count": 19,
     "metadata": {},
     "output_type": "execute_result"
    }
   ],
   "source": [
    "diabetes.head()"
   ],
   "metadata": {
    "collapsed": false,
    "pycharm": {
     "name": "#%%\n"
    }
   }
  },
  {
   "cell_type": "markdown",
   "source": [
    "### Estadísticas descriptivas\n",
    "\n",
    "Puede utilizar diferentes métodos como:\n",
    "\n",
    "* **.mean()**\n",
    "* **.median()**\n",
    "* **.min()**\n",
    "* **.max()**\n",
    "* **.quantile()**\n",
    "\n",
    "Y muchos otros más para calcular estadísticas sobre los datos, sin embargo, en algunos casos necesitará crear sus propias funciones personalizadas. Para esto el método **.agg()** le permite aplicar sus propias funciones personalizadas a un DataFrame, así como también aplicar funciones a más de una columna, lo que hace que sus agregaciones sean más eficientes."
   ],
   "metadata": {
    "collapsed": false
   }
  },
  {
   "cell_type": "code",
   "execution_count": 20,
   "outputs": [
    {
     "data": {
      "text/plain": "           PlasmaGlucose  Age\nPatientID                    \n1628533             86.0   21\n1879781             86.0   21\n1208887             89.0   21\n1209324            134.0   21\n1209326             70.0   21",
      "text/html": "<div>\n<style scoped>\n    .dataframe tbody tr th:only-of-type {\n        vertical-align: middle;\n    }\n\n    .dataframe tbody tr th {\n        vertical-align: top;\n    }\n\n    .dataframe thead th {\n        text-align: right;\n    }\n</style>\n<table border=\"1\" class=\"dataframe\">\n  <thead>\n    <tr style=\"text-align: right;\">\n      <th></th>\n      <th>PlasmaGlucose</th>\n      <th>Age</th>\n    </tr>\n    <tr>\n      <th>PatientID</th>\n      <th></th>\n      <th></th>\n    </tr>\n  </thead>\n  <tbody>\n    <tr>\n      <th>1628533</th>\n      <td>86.0</td>\n      <td>21</td>\n    </tr>\n    <tr>\n      <th>1879781</th>\n      <td>86.0</td>\n      <td>21</td>\n    </tr>\n    <tr>\n      <th>1208887</th>\n      <td>89.0</td>\n      <td>21</td>\n    </tr>\n    <tr>\n      <th>1209324</th>\n      <td>134.0</td>\n      <td>21</td>\n    </tr>\n    <tr>\n      <th>1209326</th>\n      <td>70.0</td>\n      <td>21</td>\n    </tr>\n  </tbody>\n</table>\n</div>"
     },
     "execution_count": 20,
     "metadata": {},
     "output_type": "execute_result"
    }
   ],
   "source": [
    "diabetes[['PlasmaGlucose', 'Age']].head()"
   ],
   "metadata": {
    "collapsed": false,
    "pycharm": {
     "name": "#%%\n"
    }
   }
  },
  {
   "cell_type": "code",
   "execution_count": 21,
   "metadata": {
    "pycharm": {
     "name": "#%%\n"
    }
   },
   "outputs": [
    {
     "data": {
      "text/plain": "           Pregnancies  PlasmaGlucose  DiastolicBloodPressure  \\\nPatientID                                                       \n1628533              9           86.0                      58   \n1879781              1           86.0                      61   \n1208887              1           89.0                      81   \n1209324              6          134.0                      64   \n1209326              1           70.0                      82   \n\n           TricepsThickness  SerumInsulin        BMI  DiabetesPedigree  Age  \\\nPatientID                                                                     \n1628533                  32            27  39.484717          0.178700   21   \n1879781                  56            31  39.008252          0.101323   21   \n1208887                  12            33  43.548543          0.178823   21   \n1209324                  11           140  32.375979          0.567238   21   \n1209326                  46            35  20.861974          0.136347   21   \n\n          Diabetic diabetes_apply diabetes_map  ensalada_frutas  \nPatientID                                                        \n1628533          0             No           No             53.5  \n1879781          0             No           No             53.5  \n1208887          0             No           No             55.0  \n1209324          1             Si           Si             77.5  \n1209326          0             No           No             45.5  ",
      "text/html": "<div>\n<style scoped>\n    .dataframe tbody tr th:only-of-type {\n        vertical-align: middle;\n    }\n\n    .dataframe tbody tr th {\n        vertical-align: top;\n    }\n\n    .dataframe thead th {\n        text-align: right;\n    }\n</style>\n<table border=\"1\" class=\"dataframe\">\n  <thead>\n    <tr style=\"text-align: right;\">\n      <th></th>\n      <th>Pregnancies</th>\n      <th>PlasmaGlucose</th>\n      <th>DiastolicBloodPressure</th>\n      <th>TricepsThickness</th>\n      <th>SerumInsulin</th>\n      <th>BMI</th>\n      <th>DiabetesPedigree</th>\n      <th>Age</th>\n      <th>Diabetic</th>\n      <th>diabetes_apply</th>\n      <th>diabetes_map</th>\n      <th>ensalada_frutas</th>\n    </tr>\n    <tr>\n      <th>PatientID</th>\n      <th></th>\n      <th></th>\n      <th></th>\n      <th></th>\n      <th></th>\n      <th></th>\n      <th></th>\n      <th></th>\n      <th></th>\n      <th></th>\n      <th></th>\n      <th></th>\n    </tr>\n  </thead>\n  <tbody>\n    <tr>\n      <th>1628533</th>\n      <td>9</td>\n      <td>86.0</td>\n      <td>58</td>\n      <td>32</td>\n      <td>27</td>\n      <td>39.484717</td>\n      <td>0.178700</td>\n      <td>21</td>\n      <td>0</td>\n      <td>No</td>\n      <td>No</td>\n      <td>53.5</td>\n    </tr>\n    <tr>\n      <th>1879781</th>\n      <td>1</td>\n      <td>86.0</td>\n      <td>61</td>\n      <td>56</td>\n      <td>31</td>\n      <td>39.008252</td>\n      <td>0.101323</td>\n      <td>21</td>\n      <td>0</td>\n      <td>No</td>\n      <td>No</td>\n      <td>53.5</td>\n    </tr>\n    <tr>\n      <th>1208887</th>\n      <td>1</td>\n      <td>89.0</td>\n      <td>81</td>\n      <td>12</td>\n      <td>33</td>\n      <td>43.548543</td>\n      <td>0.178823</td>\n      <td>21</td>\n      <td>0</td>\n      <td>No</td>\n      <td>No</td>\n      <td>55.0</td>\n    </tr>\n    <tr>\n      <th>1209324</th>\n      <td>6</td>\n      <td>134.0</td>\n      <td>64</td>\n      <td>11</td>\n      <td>140</td>\n      <td>32.375979</td>\n      <td>0.567238</td>\n      <td>21</td>\n      <td>1</td>\n      <td>Si</td>\n      <td>Si</td>\n      <td>77.5</td>\n    </tr>\n    <tr>\n      <th>1209326</th>\n      <td>1</td>\n      <td>70.0</td>\n      <td>82</td>\n      <td>46</td>\n      <td>35</td>\n      <td>20.861974</td>\n      <td>0.136347</td>\n      <td>21</td>\n      <td>0</td>\n      <td>No</td>\n      <td>No</td>\n      <td>45.5</td>\n    </tr>\n  </tbody>\n</table>\n</div>"
     },
     "execution_count": 21,
     "metadata": {},
     "output_type": "execute_result"
    }
   ],
   "source": [
    "diabetes['ensalada_frutas'] = diabetes[['PlasmaGlucose', 'Age']].mean(axis=1)\n",
    "\n",
    "diabetes.head()"
   ]
  },
  {
   "cell_type": "markdown",
   "metadata": {
    "pycharm": {
     "name": "#%% md\n"
    }
   },
   "source": [
    "### Eliminar datos duplicados\n",
    "\n",
    "Cuando queremos ver si hay datos duplicados, dos métodos interesantes son:\n",
    "\n",
    "* **.duplicated()**\n",
    "* **.drop_duplicates()**\n",
    "\n",
    "Ambos métodos comparten dos argumentos muy importantes, el primero es *subset* que considera solo las columnas que se le pasen para buscar datos duplicados; el segundo es *keep* que determina que duplicado dejar o eliminar."
   ]
  },
  {
   "cell_type": "code",
   "execution_count": 26,
   "metadata": {
    "pycharm": {
     "name": "#%%\n"
    }
   },
   "outputs": [],
   "source": [
    "# diabetes.reset_index(drop=True, inplace=True)\n",
    "#\n",
    "# diabetes.drop(labels='index', axis=1, inplace=True)\n",
    "#\n",
    "# diabetes[diabetes.duplicated(subset=['PatientID'], keep=False)].shape[0]/diabetes.shape[0]"
   ]
  },
  {
   "cell_type": "code",
   "execution_count": 27,
   "outputs": [],
   "source": [
    "# diabetes.drop_duplicates(subset=['PatientID'], keep=False, inplace=True)"
   ],
   "metadata": {
    "collapsed": false,
    "pycharm": {
     "name": "#%%\n"
    }
   }
  },
  {
   "cell_type": "markdown",
   "metadata": {
    "pycharm": {
     "name": "#%% md\n"
    }
   },
   "source": [
    "### Agrupaciones\n",
    "\n",
    "Podemos hacer agrupaciones usando el método **.groupby()**, donde el primer argumento es *by* que recibe un str o una lista de las columnas por las cuales se desea agrupar."
   ]
  },
  {
   "cell_type": "code",
   "execution_count": 28,
   "metadata": {
    "pycharm": {
     "name": "#%%\n"
    }
   },
   "outputs": [
    {
     "data": {
      "text/plain": "                         Pregnancies  PlasmaGlucose  DiastolicBloodPressure  \\\nDiabetic diabetes_apply                                                       \n0        No                   2.2479     104.965083                 70.1387   \n1        Si                   5.1778     113.657057                 73.3846   \n\n                         TricepsThickness  SerumInsulin        BMI  \\\nDiabetic diabetes_apply                                              \n0        No                       27.2444      114.5765  30.057052   \n1        Si                       31.9532      184.4034  34.414834   \n\n                         DiabetesPedigree      Age  ensalada_frutas  \nDiabetic diabetes_apply                                              \n0        No                      0.353457  27.2090          66.0664  \n1        Si                      0.489990  35.9952          74.7841  ",
      "text/html": "<div>\n<style scoped>\n    .dataframe tbody tr th:only-of-type {\n        vertical-align: middle;\n    }\n\n    .dataframe tbody tr th {\n        vertical-align: top;\n    }\n\n    .dataframe thead th {\n        text-align: right;\n    }\n</style>\n<table border=\"1\" class=\"dataframe\">\n  <thead>\n    <tr style=\"text-align: right;\">\n      <th></th>\n      <th></th>\n      <th>Pregnancies</th>\n      <th>PlasmaGlucose</th>\n      <th>DiastolicBloodPressure</th>\n      <th>TricepsThickness</th>\n      <th>SerumInsulin</th>\n      <th>BMI</th>\n      <th>DiabetesPedigree</th>\n      <th>Age</th>\n      <th>ensalada_frutas</th>\n    </tr>\n    <tr>\n      <th>Diabetic</th>\n      <th>diabetes_apply</th>\n      <th></th>\n      <th></th>\n      <th></th>\n      <th></th>\n      <th></th>\n      <th></th>\n      <th></th>\n      <th></th>\n      <th></th>\n    </tr>\n  </thead>\n  <tbody>\n    <tr>\n      <th>0</th>\n      <th>No</th>\n      <td>2.2479</td>\n      <td>104.965083</td>\n      <td>70.1387</td>\n      <td>27.2444</td>\n      <td>114.5765</td>\n      <td>30.057052</td>\n      <td>0.353457</td>\n      <td>27.2090</td>\n      <td>66.0664</td>\n    </tr>\n    <tr>\n      <th>1</th>\n      <th>Si</th>\n      <td>5.1778</td>\n      <td>113.657057</td>\n      <td>73.3846</td>\n      <td>31.9532</td>\n      <td>184.4034</td>\n      <td>34.414834</td>\n      <td>0.489990</td>\n      <td>35.9952</td>\n      <td>74.7841</td>\n    </tr>\n  </tbody>\n</table>\n</div>"
     },
     "execution_count": 28,
     "metadata": {},
     "output_type": "execute_result"
    }
   ],
   "source": [
    "# diabetes.groupby(by='Diabetic', as_index=False).mean()\n",
    "table = diabetes.groupby(by=['Diabetic', 'diabetes_apply']).mean()\n",
    "table"
   ]
  },
  {
   "cell_type": "code",
   "execution_count": 29,
   "outputs": [
    {
     "data": {
      "text/plain": "                         Pregnancies  PlasmaGlucose  DiastolicBloodPressure  \\\nDiabetic diabetes_apply                                                       \n0        No                   2.2479     104.965083                 70.1387   \n1        Si                   5.1778     113.657057                 73.3846   \n\n                         TricepsThickness  SerumInsulin        BMI  \\\nDiabetic diabetes_apply                                              \n0        No                       27.2444      114.5765  30.057052   \n1        Si                       31.9532      184.4034  34.414834   \n\n                         DiabetesPedigree      Age  ensalada_frutas Diabetic  \nDiabetic diabetes_apply                                                       \n0        No                      0.353457  27.2090          66.0664        0  \n1        Si                      0.489990  35.9952          74.7841        1  ",
      "text/html": "<div>\n<style scoped>\n    .dataframe tbody tr th:only-of-type {\n        vertical-align: middle;\n    }\n\n    .dataframe tbody tr th {\n        vertical-align: top;\n    }\n\n    .dataframe thead th {\n        text-align: right;\n    }\n</style>\n<table border=\"1\" class=\"dataframe\">\n  <thead>\n    <tr style=\"text-align: right;\">\n      <th></th>\n      <th></th>\n      <th>Pregnancies</th>\n      <th>PlasmaGlucose</th>\n      <th>DiastolicBloodPressure</th>\n      <th>TricepsThickness</th>\n      <th>SerumInsulin</th>\n      <th>BMI</th>\n      <th>DiabetesPedigree</th>\n      <th>Age</th>\n      <th>ensalada_frutas</th>\n      <th>Diabetic</th>\n    </tr>\n    <tr>\n      <th>Diabetic</th>\n      <th>diabetes_apply</th>\n      <th></th>\n      <th></th>\n      <th></th>\n      <th></th>\n      <th></th>\n      <th></th>\n      <th></th>\n      <th></th>\n      <th></th>\n      <th></th>\n    </tr>\n  </thead>\n  <tbody>\n    <tr>\n      <th>0</th>\n      <th>No</th>\n      <td>2.2479</td>\n      <td>104.965083</td>\n      <td>70.1387</td>\n      <td>27.2444</td>\n      <td>114.5765</td>\n      <td>30.057052</td>\n      <td>0.353457</td>\n      <td>27.2090</td>\n      <td>66.0664</td>\n      <td>0</td>\n    </tr>\n    <tr>\n      <th>1</th>\n      <th>Si</th>\n      <td>5.1778</td>\n      <td>113.657057</td>\n      <td>73.3846</td>\n      <td>31.9532</td>\n      <td>184.4034</td>\n      <td>34.414834</td>\n      <td>0.489990</td>\n      <td>35.9952</td>\n      <td>74.7841</td>\n      <td>1</td>\n    </tr>\n  </tbody>\n</table>\n</div>"
     },
     "execution_count": 29,
     "metadata": {},
     "output_type": "execute_result"
    }
   ],
   "source": [
    "table['Diabetic'] = table.index.get_level_values(0)\n",
    "table"
   ],
   "metadata": {
    "collapsed": false,
    "pycharm": {
     "name": "#%%\n"
    }
   }
  },
  {
   "cell_type": "code",
   "execution_count": 30,
   "outputs": [
    {
     "data": {
      "text/plain": "MultiIndex([('0', 'No'),\n            ('1', 'Si')],\n           names=['Diabetic', 'diabetes_apply'])"
     },
     "execution_count": 30,
     "metadata": {},
     "output_type": "execute_result"
    }
   ],
   "source": [
    "table.index"
   ],
   "metadata": {
    "collapsed": false,
    "pycharm": {
     "name": "#%%\n"
    }
   }
  },
  {
   "cell_type": "code",
   "execution_count": 31,
   "outputs": [
    {
     "data": {
      "text/plain": "                         Pregnancies  PlasmaGlucose  DiastolicBloodPressure  \\\nDiabetic diabetes_apply                                                       \n0        No                   2.2479     104.965083                 70.1387   \n\n                         TricepsThickness  SerumInsulin        BMI  \\\nDiabetic diabetes_apply                                              \n0        No                       27.2444      114.5765  30.057052   \n\n                         DiabetesPedigree     Age  ensalada_frutas Diabetic  \nDiabetic diabetes_apply                                                      \n0        No                      0.353457  27.209          66.0664        0  ",
      "text/html": "<div>\n<style scoped>\n    .dataframe tbody tr th:only-of-type {\n        vertical-align: middle;\n    }\n\n    .dataframe tbody tr th {\n        vertical-align: top;\n    }\n\n    .dataframe thead th {\n        text-align: right;\n    }\n</style>\n<table border=\"1\" class=\"dataframe\">\n  <thead>\n    <tr style=\"text-align: right;\">\n      <th></th>\n      <th></th>\n      <th>Pregnancies</th>\n      <th>PlasmaGlucose</th>\n      <th>DiastolicBloodPressure</th>\n      <th>TricepsThickness</th>\n      <th>SerumInsulin</th>\n      <th>BMI</th>\n      <th>DiabetesPedigree</th>\n      <th>Age</th>\n      <th>ensalada_frutas</th>\n      <th>Diabetic</th>\n    </tr>\n    <tr>\n      <th>Diabetic</th>\n      <th>diabetes_apply</th>\n      <th></th>\n      <th></th>\n      <th></th>\n      <th></th>\n      <th></th>\n      <th></th>\n      <th></th>\n      <th></th>\n      <th></th>\n      <th></th>\n    </tr>\n  </thead>\n  <tbody>\n    <tr>\n      <th>0</th>\n      <th>No</th>\n      <td>2.2479</td>\n      <td>104.965083</td>\n      <td>70.1387</td>\n      <td>27.2444</td>\n      <td>114.5765</td>\n      <td>30.057052</td>\n      <td>0.353457</td>\n      <td>27.209</td>\n      <td>66.0664</td>\n      <td>0</td>\n    </tr>\n  </tbody>\n</table>\n</div>"
     },
     "execution_count": 31,
     "metadata": {},
     "output_type": "execute_result"
    }
   ],
   "source": [
    "table.loc[[('0', 'No')], ]"
   ],
   "metadata": {
    "collapsed": false,
    "pycharm": {
     "name": "#%%\n"
    }
   }
  },
  {
   "cell_type": "code",
   "execution_count": 32,
   "outputs": [
    {
     "data": {
      "text/plain": "         Pregnancies                  PlasmaGlucose                    \\\n                mean median       std          mean median        std   \nDiabetic                                                                \n0             2.2479      1  3.130531    104.965083   96.0  32.074428   \n1             5.1778      5  3.029063    113.657057  109.0  30.999172   \n\n         DiastolicBloodPressure                   TricepsThickness  ...  \\\n                           mean median        std             mean  ...   \nDiabetic                                                            ...   \n0                       70.1387     69  17.704926          27.2444  ...   \n1                       73.3846     74  14.445041          31.9532  ...   \n\n                BMI DiabetesPedigree                          Age         \\\n                std             mean    median       std     mean median   \nDiabetic                                                                   \n0         10.093520         0.353457  0.193486  0.331053  27.2090     24   \n1          8.325321         0.489990  0.222887  0.443775  35.9952     37   \n\n                    ensalada_frutas                    \n                std            mean median        std  \nDiabetic                                               \n0          9.928463         66.0664   63.0  16.781532  \n1         13.780332         74.7841   73.5  16.989187  \n\n[2 rows x 27 columns]",
      "text/html": "<div>\n<style scoped>\n    .dataframe tbody tr th:only-of-type {\n        vertical-align: middle;\n    }\n\n    .dataframe tbody tr th {\n        vertical-align: top;\n    }\n\n    .dataframe thead tr th {\n        text-align: left;\n    }\n\n    .dataframe thead tr:last-of-type th {\n        text-align: right;\n    }\n</style>\n<table border=\"1\" class=\"dataframe\">\n  <thead>\n    <tr>\n      <th></th>\n      <th colspan=\"3\" halign=\"left\">Pregnancies</th>\n      <th colspan=\"3\" halign=\"left\">PlasmaGlucose</th>\n      <th colspan=\"3\" halign=\"left\">DiastolicBloodPressure</th>\n      <th>TricepsThickness</th>\n      <th>...</th>\n      <th>BMI</th>\n      <th colspan=\"3\" halign=\"left\">DiabetesPedigree</th>\n      <th colspan=\"3\" halign=\"left\">Age</th>\n      <th colspan=\"3\" halign=\"left\">ensalada_frutas</th>\n    </tr>\n    <tr>\n      <th></th>\n      <th>mean</th>\n      <th>median</th>\n      <th>std</th>\n      <th>mean</th>\n      <th>median</th>\n      <th>std</th>\n      <th>mean</th>\n      <th>median</th>\n      <th>std</th>\n      <th>mean</th>\n      <th>...</th>\n      <th>std</th>\n      <th>mean</th>\n      <th>median</th>\n      <th>std</th>\n      <th>mean</th>\n      <th>median</th>\n      <th>std</th>\n      <th>mean</th>\n      <th>median</th>\n      <th>std</th>\n    </tr>\n    <tr>\n      <th>Diabetic</th>\n      <th></th>\n      <th></th>\n      <th></th>\n      <th></th>\n      <th></th>\n      <th></th>\n      <th></th>\n      <th></th>\n      <th></th>\n      <th></th>\n      <th></th>\n      <th></th>\n      <th></th>\n      <th></th>\n      <th></th>\n      <th></th>\n      <th></th>\n      <th></th>\n      <th></th>\n      <th></th>\n      <th></th>\n    </tr>\n  </thead>\n  <tbody>\n    <tr>\n      <th>0</th>\n      <td>2.2479</td>\n      <td>1</td>\n      <td>3.130531</td>\n      <td>104.965083</td>\n      <td>96.0</td>\n      <td>32.074428</td>\n      <td>70.1387</td>\n      <td>69</td>\n      <td>17.704926</td>\n      <td>27.2444</td>\n      <td>...</td>\n      <td>10.093520</td>\n      <td>0.353457</td>\n      <td>0.193486</td>\n      <td>0.331053</td>\n      <td>27.2090</td>\n      <td>24</td>\n      <td>9.928463</td>\n      <td>66.0664</td>\n      <td>63.0</td>\n      <td>16.781532</td>\n    </tr>\n    <tr>\n      <th>1</th>\n      <td>5.1778</td>\n      <td>5</td>\n      <td>3.029063</td>\n      <td>113.657057</td>\n      <td>109.0</td>\n      <td>30.999172</td>\n      <td>73.3846</td>\n      <td>74</td>\n      <td>14.445041</td>\n      <td>31.9532</td>\n      <td>...</td>\n      <td>8.325321</td>\n      <td>0.489990</td>\n      <td>0.222887</td>\n      <td>0.443775</td>\n      <td>35.9952</td>\n      <td>37</td>\n      <td>13.780332</td>\n      <td>74.7841</td>\n      <td>73.5</td>\n      <td>16.989187</td>\n    </tr>\n  </tbody>\n</table>\n<p>2 rows × 27 columns</p>\n</div>"
     },
     "execution_count": 32,
     "metadata": {},
     "output_type": "execute_result"
    }
   ],
   "source": [
    "table = diabetes.groupby(by='Diabetic').agg(['mean', 'median', 'std'])\n",
    "table"
   ],
   "metadata": {
    "collapsed": false,
    "pycharm": {
     "name": "#%%\n"
    }
   }
  },
  {
   "cell_type": "code",
   "execution_count": 33,
   "outputs": [
    {
     "data": {
      "text/plain": "         PlasmaGlucose\n                median\nDiabetic              \n0                 96.0\n1                109.0",
      "text/html": "<div>\n<style scoped>\n    .dataframe tbody tr th:only-of-type {\n        vertical-align: middle;\n    }\n\n    .dataframe tbody tr th {\n        vertical-align: top;\n    }\n\n    .dataframe thead tr th {\n        text-align: left;\n    }\n\n    .dataframe thead tr:last-of-type th {\n        text-align: right;\n    }\n</style>\n<table border=\"1\" class=\"dataframe\">\n  <thead>\n    <tr>\n      <th></th>\n      <th>PlasmaGlucose</th>\n    </tr>\n    <tr>\n      <th></th>\n      <th>median</th>\n    </tr>\n    <tr>\n      <th>Diabetic</th>\n      <th></th>\n    </tr>\n  </thead>\n  <tbody>\n    <tr>\n      <th>0</th>\n      <td>96.0</td>\n    </tr>\n    <tr>\n      <th>1</th>\n      <td>109.0</td>\n    </tr>\n  </tbody>\n</table>\n</div>"
     },
     "execution_count": 33,
     "metadata": {},
     "output_type": "execute_result"
    }
   ],
   "source": [
    "table.loc[:, [('PlasmaGlucose', 'median')]]"
   ],
   "metadata": {
    "collapsed": false,
    "pycharm": {
     "name": "#%%\n"
    }
   }
  },
  {
   "cell_type": "code",
   "execution_count": 34,
   "outputs": [
    {
     "data": {
      "text/plain": "  Diabetic  min_age  max_age  median_age    std_age\n0        0       21       77          24   9.928463\n1        1       21       67          37  13.780332",
      "text/html": "<div>\n<style scoped>\n    .dataframe tbody tr th:only-of-type {\n        vertical-align: middle;\n    }\n\n    .dataframe tbody tr th {\n        vertical-align: top;\n    }\n\n    .dataframe thead th {\n        text-align: right;\n    }\n</style>\n<table border=\"1\" class=\"dataframe\">\n  <thead>\n    <tr style=\"text-align: right;\">\n      <th></th>\n      <th>Diabetic</th>\n      <th>min_age</th>\n      <th>max_age</th>\n      <th>median_age</th>\n      <th>std_age</th>\n    </tr>\n  </thead>\n  <tbody>\n    <tr>\n      <th>0</th>\n      <td>0</td>\n      <td>21</td>\n      <td>77</td>\n      <td>24</td>\n      <td>9.928463</td>\n    </tr>\n    <tr>\n      <th>1</th>\n      <td>1</td>\n      <td>21</td>\n      <td>67</td>\n      <td>37</td>\n      <td>13.780332</td>\n    </tr>\n  </tbody>\n</table>\n</div>"
     },
     "execution_count": 34,
     "metadata": {},
     "output_type": "execute_result"
    }
   ],
   "source": [
    "diabetes.groupby('Diabetic',)['Age'].agg(min_age='min',\n",
    "                                         max_age='max',\n",
    "                                         median_age='median',\n",
    "                                         std_age='std').reset_index()"
   ],
   "metadata": {
    "collapsed": false,
    "pycharm": {
     "name": "#%%\n"
    }
   }
  },
  {
   "cell_type": "markdown",
   "metadata": {
    "pycharm": {
     "name": "#%% md\n"
    }
   },
   "source": [
    "### Tablas dínamicas\n",
    "\n",
    "Otra forma de calcular estadísticas agrupadas son las tablas dínamicas. Algunos argumentos interesantes son:\n",
    "\n",
    "* **values** es la columna que desea resumir.\n",
    "* **index** es la columna por la que desea agrupar.\n",
    "* **aggfunc** como se quiere agregar (por ejemplo, mediana)\n",
    "\n",
    "\n",
    "**Nota**:\n",
    "\n",
    "* De forma predeterminada el método **.pivot_table()** toma el valor medio para cada grupo.\n",
    "* Para agrupar por dos variables, podemos pasar un segundo nombre de variable al argumento **columns**.\n",
    "* En caso de tener valores missing, podemos completarlos (imputarlos) usando el argumento **fill_value**."
   ]
  },
  {
   "cell_type": "code",
   "execution_count": 43,
   "metadata": {
    "pycharm": {
     "name": "#%%\n"
    }
   },
   "outputs": [
    {
     "data": {
      "text/plain": "                       Age\nDiabetic Pregnancies      \n0        0            23.0\n         1            24.0\n         2            23.0\n         3            24.0\n         4            24.0\n         5            24.0\n         6            23.0\n         7            24.0\n         8            23.0\n         9            24.0\n         10           24.0\n         11           23.0\n1        0            37.0\n         1            37.0\n         2            35.0\n         3            38.0\n         4            38.0\n         5            37.0\n         6            35.0\n         7            39.5\n         8            36.0\n         9            33.0\n         10           38.5\n         11           37.5\n         12           39.0\n         13           39.0\n         14           23.0",
      "text/html": "<div>\n<style scoped>\n    .dataframe tbody tr th:only-of-type {\n        vertical-align: middle;\n    }\n\n    .dataframe tbody tr th {\n        vertical-align: top;\n    }\n\n    .dataframe thead th {\n        text-align: right;\n    }\n</style>\n<table border=\"1\" class=\"dataframe\">\n  <thead>\n    <tr style=\"text-align: right;\">\n      <th></th>\n      <th></th>\n      <th>Age</th>\n    </tr>\n    <tr>\n      <th>Diabetic</th>\n      <th>Pregnancies</th>\n      <th></th>\n    </tr>\n  </thead>\n  <tbody>\n    <tr>\n      <th rowspan=\"12\" valign=\"top\">0</th>\n      <th>0</th>\n      <td>23.0</td>\n    </tr>\n    <tr>\n      <th>1</th>\n      <td>24.0</td>\n    </tr>\n    <tr>\n      <th>2</th>\n      <td>23.0</td>\n    </tr>\n    <tr>\n      <th>3</th>\n      <td>24.0</td>\n    </tr>\n    <tr>\n      <th>4</th>\n      <td>24.0</td>\n    </tr>\n    <tr>\n      <th>5</th>\n      <td>24.0</td>\n    </tr>\n    <tr>\n      <th>6</th>\n      <td>23.0</td>\n    </tr>\n    <tr>\n      <th>7</th>\n      <td>24.0</td>\n    </tr>\n    <tr>\n      <th>8</th>\n      <td>23.0</td>\n    </tr>\n    <tr>\n      <th>9</th>\n      <td>24.0</td>\n    </tr>\n    <tr>\n      <th>10</th>\n      <td>24.0</td>\n    </tr>\n    <tr>\n      <th>11</th>\n      <td>23.0</td>\n    </tr>\n    <tr>\n      <th rowspan=\"15\" valign=\"top\">1</th>\n      <th>0</th>\n      <td>37.0</td>\n    </tr>\n    <tr>\n      <th>1</th>\n      <td>37.0</td>\n    </tr>\n    <tr>\n      <th>2</th>\n      <td>35.0</td>\n    </tr>\n    <tr>\n      <th>3</th>\n      <td>38.0</td>\n    </tr>\n    <tr>\n      <th>4</th>\n      <td>38.0</td>\n    </tr>\n    <tr>\n      <th>5</th>\n      <td>37.0</td>\n    </tr>\n    <tr>\n      <th>6</th>\n      <td>35.0</td>\n    </tr>\n    <tr>\n      <th>7</th>\n      <td>39.5</td>\n    </tr>\n    <tr>\n      <th>8</th>\n      <td>36.0</td>\n    </tr>\n    <tr>\n      <th>9</th>\n      <td>33.0</td>\n    </tr>\n    <tr>\n      <th>10</th>\n      <td>38.5</td>\n    </tr>\n    <tr>\n      <th>11</th>\n      <td>37.5</td>\n    </tr>\n    <tr>\n      <th>12</th>\n      <td>39.0</td>\n    </tr>\n    <tr>\n      <th>13</th>\n      <td>39.0</td>\n    </tr>\n    <tr>\n      <th>14</th>\n      <td>23.0</td>\n    </tr>\n  </tbody>\n</table>\n</div>"
     },
     "execution_count": 43,
     "metadata": {},
     "output_type": "execute_result"
    }
   ],
   "source": [
    "diabetes.pivot_table(index=['Diabetic', 'Pregnancies'], values='Age',\n",
    "                     aggfunc='median', fill_value=0)"
   ]
  },
  {
   "cell_type": "markdown",
   "metadata": {
    "pycharm": {
     "name": "#%% md\n"
    }
   },
   "source": [
    "### Trabajar con index\n",
    "\n",
    "Como se ha mencionado, una parte importante de los DataFrames son los index, que por lo general es un valor númerico de 0 a *n-1*, donde *n* es el número de observaciones totales en el DataFrame.\n",
    "\n",
    "Sin embargo, podemos mover una columna del cuerpo del DataFrame al índice, de la siguiente forma:\n",
    "\n",
    "* **set_index(column_name)**\n",
    "\n",
    "También puede tener varios índices, solo debemos pasar una lista sobre el método **set_index()**. Y para restablecer al DataFrame original,\n",
    "\n",
    "* **reset_index()**\n",
    "\n",
    "Adicional, el método **reset_index()** tiene un argumento drop que le permite eliminar el índice."
   ]
  },
  {
   "cell_type": "code",
   "execution_count": 44,
   "metadata": {
    "pycharm": {
     "name": "#%%\n"
    }
   },
   "outputs": [
    {
     "data": {
      "text/plain": "        date     city        country  avg_temp_c\n0 2000-01-01  Abidjan  Côte D'Ivoire      27.293\n1 2000-02-01  Abidjan  Côte D'Ivoire      27.685\n2 2000-03-01  Abidjan  Côte D'Ivoire      29.061\n3 2000-04-01  Abidjan  Côte D'Ivoire      28.162\n4 2000-05-01  Abidjan  Côte D'Ivoire      27.547",
      "text/html": "<div>\n<style scoped>\n    .dataframe tbody tr th:only-of-type {\n        vertical-align: middle;\n    }\n\n    .dataframe tbody tr th {\n        vertical-align: top;\n    }\n\n    .dataframe thead th {\n        text-align: right;\n    }\n</style>\n<table border=\"1\" class=\"dataframe\">\n  <thead>\n    <tr style=\"text-align: right;\">\n      <th></th>\n      <th>date</th>\n      <th>city</th>\n      <th>country</th>\n      <th>avg_temp_c</th>\n    </tr>\n  </thead>\n  <tbody>\n    <tr>\n      <th>0</th>\n      <td>2000-01-01</td>\n      <td>Abidjan</td>\n      <td>Côte D'Ivoire</td>\n      <td>27.293</td>\n    </tr>\n    <tr>\n      <th>1</th>\n      <td>2000-02-01</td>\n      <td>Abidjan</td>\n      <td>Côte D'Ivoire</td>\n      <td>27.685</td>\n    </tr>\n    <tr>\n      <th>2</th>\n      <td>2000-03-01</td>\n      <td>Abidjan</td>\n      <td>Côte D'Ivoire</td>\n      <td>29.061</td>\n    </tr>\n    <tr>\n      <th>3</th>\n      <td>2000-04-01</td>\n      <td>Abidjan</td>\n      <td>Côte D'Ivoire</td>\n      <td>28.162</td>\n    </tr>\n    <tr>\n      <th>4</th>\n      <td>2000-05-01</td>\n      <td>Abidjan</td>\n      <td>Côte D'Ivoire</td>\n      <td>27.547</td>\n    </tr>\n  </tbody>\n</table>\n</div>"
     },
     "execution_count": 44,
     "metadata": {},
     "output_type": "execute_result"
    }
   ],
   "source": [
    "temperatures = pd.read_csv('https://raw.githubusercontent.com/stivenlopezg/Diplomado-Python/master/data/temperatures.csv',\n",
    "                           index_col=0, parse_dates=['date'])\n",
    "\n",
    "temperatures.head()"
   ]
  },
  {
   "cell_type": "code",
   "execution_count": 45,
   "outputs": [
    {
     "name": "stdout",
     "output_type": "stream",
     "text": [
      "<class 'pandas.core.frame.DataFrame'>\n",
      "Int64Index: 16500 entries, 0 to 16499\n",
      "Data columns (total 4 columns):\n",
      " #   Column      Non-Null Count  Dtype         \n",
      "---  ------      --------------  -----         \n",
      " 0   date        16500 non-null  datetime64[ns]\n",
      " 1   city        16500 non-null  object        \n",
      " 2   country     16500 non-null  object        \n",
      " 3   avg_temp_c  16407 non-null  float64       \n",
      "dtypes: datetime64[ns](1), float64(1), object(2)\n",
      "memory usage: 644.5+ KB\n"
     ]
    }
   ],
   "source": [
    "temperatures.info()"
   ],
   "metadata": {
    "collapsed": false,
    "pycharm": {
     "name": "#%%\n"
    }
   }
  },
  {
   "cell_type": "code",
   "execution_count": 49,
   "outputs": [
    {
     "data": {
      "text/plain": "                                date    avg_temp_c\ncount                          16500  16407.000000\nmean   2006-10-31 13:49:05.454545408     19.732877\nmin              2000-01-01 00:00:00    -23.495000\n25%              2003-06-01 00:00:00     14.870000\n50%              2006-11-01 00:00:00     22.119000\n75%              2010-04-01 00:00:00     27.001500\nmax              2013-09-01 00:00:00     38.283000\nstd                              NaN      9.579635",
      "text/html": "<div>\n<style scoped>\n    .dataframe tbody tr th:only-of-type {\n        vertical-align: middle;\n    }\n\n    .dataframe tbody tr th {\n        vertical-align: top;\n    }\n\n    .dataframe thead th {\n        text-align: right;\n    }\n</style>\n<table border=\"1\" class=\"dataframe\">\n  <thead>\n    <tr style=\"text-align: right;\">\n      <th></th>\n      <th>date</th>\n      <th>avg_temp_c</th>\n    </tr>\n  </thead>\n  <tbody>\n    <tr>\n      <th>count</th>\n      <td>16500</td>\n      <td>16407.000000</td>\n    </tr>\n    <tr>\n      <th>mean</th>\n      <td>2006-10-31 13:49:05.454545408</td>\n      <td>19.732877</td>\n    </tr>\n    <tr>\n      <th>min</th>\n      <td>2000-01-01 00:00:00</td>\n      <td>-23.495000</td>\n    </tr>\n    <tr>\n      <th>25%</th>\n      <td>2003-06-01 00:00:00</td>\n      <td>14.870000</td>\n    </tr>\n    <tr>\n      <th>50%</th>\n      <td>2006-11-01 00:00:00</td>\n      <td>22.119000</td>\n    </tr>\n    <tr>\n      <th>75%</th>\n      <td>2010-04-01 00:00:00</td>\n      <td>27.001500</td>\n    </tr>\n    <tr>\n      <th>max</th>\n      <td>2013-09-01 00:00:00</td>\n      <td>38.283000</td>\n    </tr>\n    <tr>\n      <th>std</th>\n      <td>NaN</td>\n      <td>9.579635</td>\n    </tr>\n  </tbody>\n</table>\n</div>"
     },
     "execution_count": 49,
     "metadata": {},
     "output_type": "execute_result"
    }
   ],
   "source": [
    "temperatures.describe(datetime_is_numeric=True)"
   ],
   "metadata": {
    "collapsed": false,
    "pycharm": {
     "name": "#%%\n"
    }
   }
  },
  {
   "cell_type": "code",
   "execution_count": 48,
   "outputs": [
    {
     "name": "stderr",
     "output_type": "stream",
     "text": [
      "<ipython-input-48-56554d57fc6e>:1: FutureWarning: Treating datetime data as categorical rather than numeric in `.describe` is deprecated and will be removed in a future version of pandas. Specify `datetime_is_numeric=True` to silence this warning and adopt the future behavior now.\n",
      "  temperatures.describe(exclude='number')\n"
     ]
    },
    {
     "data": {
      "text/plain": "                       date       city country\ncount                 16500      16500   16500\nunique                  165        100      49\ntop     2007-05-01 00:00:00  Melbourne   China\nfreq                    100        165    2640\nfirst   2000-01-01 00:00:00        NaN     NaN\nlast    2013-09-01 00:00:00        NaN     NaN",
      "text/html": "<div>\n<style scoped>\n    .dataframe tbody tr th:only-of-type {\n        vertical-align: middle;\n    }\n\n    .dataframe tbody tr th {\n        vertical-align: top;\n    }\n\n    .dataframe thead th {\n        text-align: right;\n    }\n</style>\n<table border=\"1\" class=\"dataframe\">\n  <thead>\n    <tr style=\"text-align: right;\">\n      <th></th>\n      <th>date</th>\n      <th>city</th>\n      <th>country</th>\n    </tr>\n  </thead>\n  <tbody>\n    <tr>\n      <th>count</th>\n      <td>16500</td>\n      <td>16500</td>\n      <td>16500</td>\n    </tr>\n    <tr>\n      <th>unique</th>\n      <td>165</td>\n      <td>100</td>\n      <td>49</td>\n    </tr>\n    <tr>\n      <th>top</th>\n      <td>2007-05-01 00:00:00</td>\n      <td>Melbourne</td>\n      <td>China</td>\n    </tr>\n    <tr>\n      <th>freq</th>\n      <td>100</td>\n      <td>165</td>\n      <td>2640</td>\n    </tr>\n    <tr>\n      <th>first</th>\n      <td>2000-01-01 00:00:00</td>\n      <td>NaN</td>\n      <td>NaN</td>\n    </tr>\n    <tr>\n      <th>last</th>\n      <td>2013-09-01 00:00:00</td>\n      <td>NaN</td>\n      <td>NaN</td>\n    </tr>\n  </tbody>\n</table>\n</div>"
     },
     "execution_count": 48,
     "metadata": {},
     "output_type": "execute_result"
    }
   ],
   "source": [
    "temperatures.describe(exclude='number')"
   ],
   "metadata": {
    "collapsed": false,
    "pycharm": {
     "name": "#%%\n"
    }
   }
  },
  {
   "cell_type": "code",
   "execution_count": 50,
   "outputs": [
    {
     "data": {
      "text/plain": "DatetimeIndex(['2000-01-01', '2000-02-01', '2000-03-01', '2000-04-01',\n               '2000-05-01', '2000-06-01', '2000-07-01', '2000-08-01',\n               '2000-09-01', '2000-10-01',\n               ...\n               '2012-12-01', '2013-01-01', '2013-02-01', '2013-03-01',\n               '2013-04-01', '2013-05-01', '2013-06-01', '2013-07-01',\n               '2013-08-01', '2013-09-01'],\n              dtype='datetime64[ns]', name='date', length=16500, freq=None)"
     },
     "execution_count": 50,
     "metadata": {},
     "output_type": "execute_result"
    }
   ],
   "source": [
    "temperatures.set_index('date', inplace=True)\n",
    "\n",
    "temperatures.index"
   ],
   "metadata": {
    "collapsed": false,
    "pycharm": {
     "name": "#%%\n"
    }
   }
  },
  {
   "cell_type": "code",
   "execution_count": 52,
   "outputs": [
    {
     "data": {
      "text/plain": "               city        country  avg_temp_c\ndate                                          \n2010-01-01  Abidjan  Côte D'Ivoire      28.270\n2010-02-01  Abidjan  Côte D'Ivoire      29.262\n2010-03-01  Abidjan  Côte D'Ivoire      29.596\n2010-04-01  Abidjan  Côte D'Ivoire      29.068\n2010-05-01  Abidjan  Côte D'Ivoire      28.258\n...             ...            ...         ...\n2010-09-01     Xian          China      19.630\n2010-10-01     Xian          China      12.292\n2010-11-01     Xian          China       6.742\n2010-12-01     Xian          China       0.845\n2011-01-01     Xian          China      -4.811\n\n[1300 rows x 3 columns]",
      "text/html": "<div>\n<style scoped>\n    .dataframe tbody tr th:only-of-type {\n        vertical-align: middle;\n    }\n\n    .dataframe tbody tr th {\n        vertical-align: top;\n    }\n\n    .dataframe thead th {\n        text-align: right;\n    }\n</style>\n<table border=\"1\" class=\"dataframe\">\n  <thead>\n    <tr style=\"text-align: right;\">\n      <th></th>\n      <th>city</th>\n      <th>country</th>\n      <th>avg_temp_c</th>\n    </tr>\n    <tr>\n      <th>date</th>\n      <th></th>\n      <th></th>\n      <th></th>\n    </tr>\n  </thead>\n  <tbody>\n    <tr>\n      <th>2010-01-01</th>\n      <td>Abidjan</td>\n      <td>Côte D'Ivoire</td>\n      <td>28.270</td>\n    </tr>\n    <tr>\n      <th>2010-02-01</th>\n      <td>Abidjan</td>\n      <td>Côte D'Ivoire</td>\n      <td>29.262</td>\n    </tr>\n    <tr>\n      <th>2010-03-01</th>\n      <td>Abidjan</td>\n      <td>Côte D'Ivoire</td>\n      <td>29.596</td>\n    </tr>\n    <tr>\n      <th>2010-04-01</th>\n      <td>Abidjan</td>\n      <td>Côte D'Ivoire</td>\n      <td>29.068</td>\n    </tr>\n    <tr>\n      <th>2010-05-01</th>\n      <td>Abidjan</td>\n      <td>Côte D'Ivoire</td>\n      <td>28.258</td>\n    </tr>\n    <tr>\n      <th>...</th>\n      <td>...</td>\n      <td>...</td>\n      <td>...</td>\n    </tr>\n    <tr>\n      <th>2010-09-01</th>\n      <td>Xian</td>\n      <td>China</td>\n      <td>19.630</td>\n    </tr>\n    <tr>\n      <th>2010-10-01</th>\n      <td>Xian</td>\n      <td>China</td>\n      <td>12.292</td>\n    </tr>\n    <tr>\n      <th>2010-11-01</th>\n      <td>Xian</td>\n      <td>China</td>\n      <td>6.742</td>\n    </tr>\n    <tr>\n      <th>2010-12-01</th>\n      <td>Xian</td>\n      <td>China</td>\n      <td>0.845</td>\n    </tr>\n    <tr>\n      <th>2011-01-01</th>\n      <td>Xian</td>\n      <td>China</td>\n      <td>-4.811</td>\n    </tr>\n  </tbody>\n</table>\n<p>1300 rows × 3 columns</p>\n</div>"
     },
     "execution_count": 52,
     "metadata": {},
     "output_type": "execute_result"
    }
   ],
   "source": [
    "temperatures.loc['2010-01': '2011-01', :]"
   ],
   "metadata": {
    "collapsed": false,
    "pycharm": {
     "name": "#%%\n"
    }
   }
  },
  {
   "cell_type": "markdown",
   "metadata": {
    "pycharm": {
     "name": "#%% md\n"
    }
   },
   "source": [
    "### Unir datos (merge)\n",
    "\n",
    "En muchas ocasiones tendremos diferentes archivos planos, y para analizar lo que me interesa debo unir los diferentes archivos."
   ]
  },
  {
   "cell_type": "code",
   "execution_count": 53,
   "metadata": {
    "pycharm": {
     "name": "#%%\n"
    }
   },
   "outputs": [],
   "source": [
    "doctors = pd.read_csv('https://raw.githubusercontent.com/stivenlopezg/Diplomado-Python/master/data/doctors.csv',\n",
    "                      encoding='latin-1')\n",
    "\n",
    "diabetes = pd.read_csv('https://raw.githubusercontent.com/stivenlopezg/Diplomado-Python/master/data/diabetes.csv')\n",
    "diabetes.drop_duplicates(subset=['PatientID'], keep=False, inplace=True)"
   ]
  },
  {
   "cell_type": "code",
   "execution_count": 77,
   "outputs": [
    {
     "data": {
      "text/plain": "       PatientID  Pregnancies  PlasmaGlucose  DiastolicBloodPressure  \\\n1828     1300388            1             69                      64   \n6563     1498885            4            176                      87   \n12115    1954810            6            117                      59   \n7677     1601642            8             78                      74   \n5582     1691755            6            142                      46   \n...          ...          ...            ...                     ...   \n10901    1568246           10            113                      62   \n4099     1687939            1            157                      50   \n9152     1661286            6            100                      62   \n3766     1736225            3            104                      71   \n10002    1597696            6            117                      66   \n\n       TricepsThickness  SerumInsulin        BMI  DiabetesPedigree  Age  \\\n1828                  9           138  41.030369          0.079026   25   \n6563                 48           157  46.080433          1.806626   21   \n12115                 8            45  36.164059          0.556659   21   \n7677                 42            29  20.444919          0.225279   21   \n5582                  7            20  20.013580          1.090609   23   \n...                 ...           ...        ...               ...  ...   \n10901                16           155  37.306467          0.626796   39   \n4099                 11            40  20.782917          0.146402   22   \n9152                 52           184  35.933682          0.679035   32   \n3766                 48           220  30.334832          0.298803   47   \n10002                12           229  25.320547          1.553290   21   \n\n       Diabetic          Physician  \n1828          0     Iselda Bahena   \n6563          1      Carey Merrill  \n12115         0   Anthony Frizzell  \n7677          0   Naiyana Kunakorn  \n5582          0     Vicky Erickson  \n...         ...                ...  \n10901         1     Sonia Harrison  \n4099          0    Jeannette Kjaer  \n9152          1   Consuelo Navarro  \n3766          1  Generosa Esposito  \n10002         1       Carolos Lamy  \n\n[100 rows x 11 columns]",
      "text/html": "<div>\n<style scoped>\n    .dataframe tbody tr th:only-of-type {\n        vertical-align: middle;\n    }\n\n    .dataframe tbody tr th {\n        vertical-align: top;\n    }\n\n    .dataframe thead th {\n        text-align: right;\n    }\n</style>\n<table border=\"1\" class=\"dataframe\">\n  <thead>\n    <tr style=\"text-align: right;\">\n      <th></th>\n      <th>PatientID</th>\n      <th>Pregnancies</th>\n      <th>PlasmaGlucose</th>\n      <th>DiastolicBloodPressure</th>\n      <th>TricepsThickness</th>\n      <th>SerumInsulin</th>\n      <th>BMI</th>\n      <th>DiabetesPedigree</th>\n      <th>Age</th>\n      <th>Diabetic</th>\n      <th>Physician</th>\n    </tr>\n  </thead>\n  <tbody>\n    <tr>\n      <th>1828</th>\n      <td>1300388</td>\n      <td>1</td>\n      <td>69</td>\n      <td>64</td>\n      <td>9</td>\n      <td>138</td>\n      <td>41.030369</td>\n      <td>0.079026</td>\n      <td>25</td>\n      <td>0</td>\n      <td>Iselda Bahena</td>\n    </tr>\n    <tr>\n      <th>6563</th>\n      <td>1498885</td>\n      <td>4</td>\n      <td>176</td>\n      <td>87</td>\n      <td>48</td>\n      <td>157</td>\n      <td>46.080433</td>\n      <td>1.806626</td>\n      <td>21</td>\n      <td>1</td>\n      <td>Carey Merrill</td>\n    </tr>\n    <tr>\n      <th>12115</th>\n      <td>1954810</td>\n      <td>6</td>\n      <td>117</td>\n      <td>59</td>\n      <td>8</td>\n      <td>45</td>\n      <td>36.164059</td>\n      <td>0.556659</td>\n      <td>21</td>\n      <td>0</td>\n      <td>Anthony Frizzell</td>\n    </tr>\n    <tr>\n      <th>7677</th>\n      <td>1601642</td>\n      <td>8</td>\n      <td>78</td>\n      <td>74</td>\n      <td>42</td>\n      <td>29</td>\n      <td>20.444919</td>\n      <td>0.225279</td>\n      <td>21</td>\n      <td>0</td>\n      <td>Naiyana Kunakorn</td>\n    </tr>\n    <tr>\n      <th>5582</th>\n      <td>1691755</td>\n      <td>6</td>\n      <td>142</td>\n      <td>46</td>\n      <td>7</td>\n      <td>20</td>\n      <td>20.013580</td>\n      <td>1.090609</td>\n      <td>23</td>\n      <td>0</td>\n      <td>Vicky Erickson</td>\n    </tr>\n    <tr>\n      <th>...</th>\n      <td>...</td>\n      <td>...</td>\n      <td>...</td>\n      <td>...</td>\n      <td>...</td>\n      <td>...</td>\n      <td>...</td>\n      <td>...</td>\n      <td>...</td>\n      <td>...</td>\n      <td>...</td>\n    </tr>\n    <tr>\n      <th>10901</th>\n      <td>1568246</td>\n      <td>10</td>\n      <td>113</td>\n      <td>62</td>\n      <td>16</td>\n      <td>155</td>\n      <td>37.306467</td>\n      <td>0.626796</td>\n      <td>39</td>\n      <td>1</td>\n      <td>Sonia Harrison</td>\n    </tr>\n    <tr>\n      <th>4099</th>\n      <td>1687939</td>\n      <td>1</td>\n      <td>157</td>\n      <td>50</td>\n      <td>11</td>\n      <td>40</td>\n      <td>20.782917</td>\n      <td>0.146402</td>\n      <td>22</td>\n      <td>0</td>\n      <td>Jeannette Kjaer</td>\n    </tr>\n    <tr>\n      <th>9152</th>\n      <td>1661286</td>\n      <td>6</td>\n      <td>100</td>\n      <td>62</td>\n      <td>52</td>\n      <td>184</td>\n      <td>35.933682</td>\n      <td>0.679035</td>\n      <td>32</td>\n      <td>1</td>\n      <td>Consuelo Navarro</td>\n    </tr>\n    <tr>\n      <th>3766</th>\n      <td>1736225</td>\n      <td>3</td>\n      <td>104</td>\n      <td>71</td>\n      <td>48</td>\n      <td>220</td>\n      <td>30.334832</td>\n      <td>0.298803</td>\n      <td>47</td>\n      <td>1</td>\n      <td>Generosa Esposito</td>\n    </tr>\n    <tr>\n      <th>10002</th>\n      <td>1597696</td>\n      <td>6</td>\n      <td>117</td>\n      <td>66</td>\n      <td>12</td>\n      <td>229</td>\n      <td>25.320547</td>\n      <td>1.553290</td>\n      <td>21</td>\n      <td>1</td>\n      <td>Carolos Lamy</td>\n    </tr>\n  </tbody>\n</table>\n<p>100 rows × 11 columns</p>\n</div>"
     },
     "execution_count": 77,
     "metadata": {},
     "output_type": "execute_result"
    }
   ],
   "source": [
    "# pd.merge(left=diabetes[['PatientID', 'Pregnancies', 'Diabetic']], right=doctors, how='left', on=['PatientID'])\n",
    "\n",
    "diabetes.merge(right=doctors, how='left', on=['PatientID']).sample(100)"
   ],
   "metadata": {
    "collapsed": false,
    "pycharm": {
     "name": "#%%\n"
    }
   }
  },
  {
   "cell_type": "code",
   "execution_count": null,
   "outputs": [],
   "source": [],
   "metadata": {
    "collapsed": false,
    "pycharm": {
     "name": "#%%\n"
    }
   }
  }
 ],
 "metadata": {
  "kernelspec": {
   "display_name": "Python 3",
   "language": "python",
   "name": "python3"
  },
  "language_info": {
   "codemirror_mode": {
    "name": "ipython",
    "version": 3
   },
   "file_extension": ".py",
   "mimetype": "text/x-python",
   "name": "python",
   "nbconvert_exporter": "python",
   "pygments_lexer": "ipython3",
   "version": "3.7.3"
  }
 },
 "nbformat": 4,
 "nbformat_minor": 1
}