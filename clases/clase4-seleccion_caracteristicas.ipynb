{
 "cells": [
  {
   "cell_type": "markdown",
   "metadata": {
    "collapsed": true,
    "pycharm": {
     "name": "#%% md\n"
    }
   },
   "source": [
    "## Selección de características\n",
    "\n",
    "La selección de características es el proceso de seleccionar un subconjunto de características (variables) relevantes, para usar en la construcción de un modelo usando algoritmos de Machine Learning.\n",
    "\n",
    "Esto es clave para hacer modelos más simples, rápidos, y más confiables.\n",
    "\n",
    "Métodos de selección de características:\n",
    "\n",
    "* **filter methods**, eliminación de variables constantes, casi-constantes, duplicadas. También se usan algunas medidas estadísticas (Fisher score, métodos univariados, información mutua) y correlación.\n",
    "* **wrapper methods**, eliminación de variables usando estrategías como *step forward selection* (de lo simple a lo general), *step backward selection* (de lo general a lo simple), y búsquedas exhaustivas.\n",
    "* **Embedded methods**, eliminación de variables usando modelos como regresión *LASSO*, importancia de las variables derivada de *árboles de decisión*, coeficientes de modelos de regresión.\n",
    "\n",
    "**¿Por qué usar selección de características?**\n",
    "\n",
    "* Modelos simples son más fáciles de interpretar.\n",
    "* Tiempos de entrenamiento más cortos.\n",
    "* Mejor generalización al reducir el sobreajuste.\n",
    "* Fácil de implementar para los desarrolladores.\n",
    "* Eliminación de redundancia en las variables.\n"
   ]
  },
  {
   "cell_type": "code",
   "execution_count": null,
   "outputs": [],
   "source": [],
   "metadata": {
    "collapsed": false,
    "pycharm": {
     "name": "#%%\n"
    }
   }
  },
  {
   "cell_type": "markdown",
   "source": [
    "### Filther methods\n",
    "\n",
    "Características:\n",
    "\n",
    "* No usa algoritmos de Machine Learning.\n",
    "* Agnóstico al modelo.\n",
    "* Es menos costoso es términos computacionales.\n",
    "* Son adecuados para eliminar rápidamente características irrelevantes.\n",
    "\n",
    "Pasos:\n",
    "\n",
    "* Clasifique las características de acuerdo con cierto criterio.\n",
    "    * Cada característica se clasifica independientemente del espacio de características.\n",
    "* Seleccione las características de mayor rango.\n",
    "\n",
    "Estos métodos pueden seleccionar variables redundantes porque no consideran las relaciones entre características.\n",
    "\n",
    "Criterios:\n",
    "\n",
    "* Chi-Cuadrado - Fisher Score.\n",
    "* Pruebas univariadas parametricas.\n",
    "* Información mutua.\n",
    "* Varianza (características constantes o cuasi-constantes)\n",
    "\n",
    "#### Variables constantes\n",
    "\n",
    "Las características constantes son aquellas que muestran el mismo valor, solo un valor, para todas las observaciones del conjunto de datos. En otras palabras, el mismo valor para todas las filas del conjunto de datos. Estas características no proporcionan información que permita a un modelo de aprendizaje automático discriminar o predecir un objetivo.\n",
    "\n",
    "Identificar y eliminar características constantes es un primer paso sencillo hacia la selección de características y modelos de aprendizaje automático más fáciles de interpretar."
   ],
   "metadata": {
    "collapsed": false,
    "pycharm": {
     "name": "#%% md\n"
    }
   }
  },
  {
   "cell_type": "code",
   "execution_count": null,
   "outputs": [],
   "source": [],
   "metadata": {
    "collapsed": false,
    "pycharm": {
     "name": "#%%\n"
    }
   }
  },
  {
   "cell_type": "markdown",
   "source": [
    "**VarianceThreshold** de sklearn proporciona un enfoque simple para la selección de características. Elimina todas las características cuya variación no alcanza un cierto umbral. De forma predeterminada, elimina todas las características de variación cero, es decir, las características que tienen el mismo valor en todas las muestras."
   ],
   "metadata": {
    "collapsed": false,
    "pycharm": {
     "name": "#%% md\n"
    }
   }
  },
  {
   "cell_type": "code",
   "execution_count": null,
   "outputs": [],
   "source": [],
   "metadata": {
    "collapsed": false,
    "pycharm": {
     "name": "#%%\n"
    }
   }
  },
  {
   "cell_type": "markdown",
   "source": [
    "#### Variables cuasi-constantes\n",
    "\n",
    "Las características cuasi constantes son aquellas que muestran el mismo valor para la gran mayoría de las observaciones del conjunto de datos. En general, estas características proporcionan poca información, si es que la hay, que permita a un modelo de aprendizaje automático discriminar o predecir un objetivo. Pero puede haber excepciones. Por lo tanto, debe tener cuidado al eliminar este tipo de funciones."
   ],
   "metadata": {
    "collapsed": false
   }
  },
  {
   "cell_type": "code",
   "execution_count": null,
   "outputs": [],
   "source": [],
   "metadata": {
    "collapsed": false,
    "pycharm": {
     "name": "#%%\n"
    }
   }
  },
  {
   "cell_type": "markdown",
   "source": [
    "#### Correlacion"
   ],
   "metadata": {
    "collapsed": false,
    "pycharm": {
     "name": "#%% md\n"
    }
   }
  },
  {
   "cell_type": "code",
   "execution_count": null,
   "outputs": [],
   "source": [],
   "metadata": {
    "collapsed": false,
    "pycharm": {
     "name": "#%%\n"
    }
   }
  },
  {
   "cell_type": "markdown",
   "source": [
    "### Wrapper methods\n",
    "\n",
    "Características:\n",
    "\n",
    "* Utiliza modelos predictivos para puntuar un subconjunto de características.\n",
    "* Entrena un nuevo modelo en cada subconjunto de características.\n",
    "* Son costosos computacionalmente.\n",
    "* Por lo general, proporciona el subconjunto de características de mejor rendimiento para un algoritmo determinado.\n",
    "* Posiblemente no produzca la mejor combinación de características para un modelo ML diferente.\n",
    "\n",
    "Estos métodos detectan relaciones entre las variables. Adicional encuentran el mejor subconjunto de características para el clasificador deseado.\n",
    "\n",
    "Pasos:\n",
    "\n",
    "* Busca un subconjunto de características.\n",
    "* Construye un modelo usando un algoritmo de Machine Learning en el subconjunto de características seleccionado.\n",
    "* Evalua el desempeño del modelo.\n",
    "* Repite.\n",
    "\n",
    "De esto surgen dos preguntas interesantes:\n",
    "\n",
    "* **¿Cómo buscar el subconjunto?**\n",
    "* **¿Cuándo parar la búsqueda?**\n",
    "\n",
    "**Búsqueda**:\n",
    "\n",
    "1. **Forward selection**, agrega una característica a la vez.\n",
    "2. **Backward selection**, elimina una característica a la vez.\n",
    "3. **Exhaustive search**, busca entre todas las combinaciones posibles de caracterísiticas.\n",
    "\n",
    "**Stoping**:\n",
    "\n",
    "* Aumenta el rendimiento del modelo(Forward).\n",
    "* Disminuye el rendimiento del modelo (Backward).\n",
    "* Alcanza el número de caracterísiticas definido (Exhaustive).\n",
    "\n",
    "Los criterios de stoping suelen ser muy arbitrarios. Deben ser definidos por cada usuario."
   ],
   "metadata": {
    "collapsed": false,
    "pycharm": {
     "name": "#%% md\n"
    }
   }
  },
  {
   "cell_type": "code",
   "execution_count": null,
   "outputs": [],
   "source": [],
   "metadata": {
    "collapsed": false,
    "pycharm": {
     "name": "#%%\n"
    }
   }
  },
  {
   "cell_type": "markdown",
   "source": [
    "### Embedded methods\n",
    "\n",
    "Características:\n",
    "\n",
    "* Realiza la selección de características como parte del proceso de construcción del modelo.\n",
    "* Considera la interacción entre caracterísiticas y modelos.\n",
    "* Son menos costosos computacionalmente que los métodos wrapper, porque se ajustan al modelo ML solo una vez.\n",
    "\n",
    "Pasos:\n",
    "\n",
    "* Entrenar un modelo usando un algoritmo de Machine Learning.\n",
    "* Derivar la importancia de las características.\n",
    "* Eliminar las características no importantes.\n",
    "\n"
   ],
   "metadata": {
    "collapsed": false,
    "pycharm": {
     "name": "#%% md\n"
    }
   }
  }
 ],
 "metadata": {
  "kernelspec": {
   "display_name": "Python 3",
   "language": "python",
   "name": "python3"
  },
  "language_info": {
   "codemirror_mode": {
    "name": "ipython",
    "version": 2
   },
   "file_extension": ".py",
   "mimetype": "text/x-python",
   "name": "python",
   "nbconvert_exporter": "python",
   "pygments_lexer": "ipython2",
   "version": "2.7.6"
  }
 },
 "nbformat": 4,
 "nbformat_minor": 0
}