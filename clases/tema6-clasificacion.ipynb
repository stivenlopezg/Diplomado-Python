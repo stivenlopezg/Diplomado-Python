{
 "cells": [
  {
   "cell_type": "markdown",
   "source": [
    "# Introducción al Machine Learning\n",
    "\n",
    "En los últimos años, el aprendizaje automático se ha dado a conocer por sus grandes logros, un ejemplo de esto, es el tan conocido clasificador de *Spam*. Aunque el aprendizaje automático ha cogido mucha fuerza en los últimos años, muchos de los algoritmos ya existían desde hace mucho tiempo.\n",
    "\n",
    "Algo muy común es creer que el aprendizaje automático es Inteligencia Artificial, si bien es una rama de la inteligencia artificial, y existe una retroalimentación constante entre ML e IA, no todas las aplicaciones de ML terminan en IA.\n",
    "\n",
    "**¿Que es Machine Learning?**\n",
    "\n",
    "El Machine Learning es la ciencia (y el arte) de programar ordenadores para que aprendan a partir de los datos. Algunas definiciones:\n",
    "\n",
    "* El ML es el campo de estudio que da a los ordenadores la capacidad de aprender sin ser programados de manera explícita. (**Arthur Samuel, 1959**)\n",
    "* Se dice que un programa de ordenador aprende de la experiencia **E**, con respecto a una tarea **T** y una medida de rendimiento **R**, si su rendimiento en **T**, medido por **R**, mejora con la experiencia **E**. (**Tom Mitchell, 1997**)\n",
    "\n",
    "## Tipos de aprendizaje\n",
    "\n",
    "* Aprendizaje supervisado\n",
    "    * Clasificación.\n",
    "        * Clasificación binaria.\n",
    "        * Clasificación multiclase.\n",
    "    * Regresión.\n",
    "\n",
    "* Aprendizaje no supervisado.\n",
    "    * Clustering.\n",
    "    * Reducción de la dimensionalidad.\n",
    "    * Detección de anomalías.\n",
    "\n",
    "* Aprendizaje semi-supervisado\n",
    "* Aprendizaje por refuerzo\n",
    "\n",
    "### Aprendizaje supervisado\n",
    "\n",
    "Los algoritmos de aprendizaje supervisado están diseñados para aprender mediante ejemplos con sus respectivas respuestas. Contamos con datos de entrada, en general de forma estructurada, es decir, tenemos muchas observaciones con columnas (variables) y dentro de esos datos, existe una variable que queremos predecir. Por ejemplo, dadas ciertas características de mediciones queremos predecir si una persona tiene diabetes o no.\n",
    "\n",
    "El flujo sel aprendizaje supervisado es así:\n",
    "\n",
    "* Tomamos nuestros datos y separamos en variables independientes (predictoras) ***X***, y en una variable ***y*** que queremos predecir (variable dependiente).\n",
    "* Mostramos pares *(x, y)* a un algoritmo preparado para aprender de nuestros datos, de forma tal que crea un conjunto de reglas o asociaciones para, dada una entrada ***x***, predecir ***y***.\n",
    "* Cuando el modelo está entranado, queremos que el modelo haga una predicción sobre datos no observados.\n",
    "\n",
    "Cuando nuestra variable de interés es una categoría, significa que tenemos un problema de **clasificación**. Si nuestra variable de interés es una variable numérica continua, tenemos un problema de **regresión**.\n",
    "\n",
    "#### Clasificación\n",
    "\n",
    "La clasificación es una subcategoría del aprendizaje supervisado en la que el objetivo es predecir una variable objetivo categórica (discreta, valores no observados).\n",
    "\n",
    "Hay dos tipos princpales de clasificaciones:\n",
    "\n",
    "* **Clasificación binaria**: Es un tipo de clasificación en el que tan solo se pueden asignar dos clases diferentes (0 o 1). Por ejemplo, la detección de spam, en la que cada email es: spam -> en cuyo caso será etiquetado con un 1; o no lo es -> etiquetado con un 0.\n",
    "\n",
    "* **Clasificación Multi-clase**: Se pueden asignar múltiples categorías a las observaciones. Como el reconocimiento de caracteres de escritura manual de números (las clases van de 0 a 9).\n",
    "\n",
    "Una forma gráfica de ver la clasificación:\n",
    "\n",
    "![imagen tomada de medium.com](https://miro.medium.com/proxy/1*fBjniQPOKigqxYSKEumXoA.png)\n",
    "\n",
    "##### Árboles de decisión\n",
    "\n",
    "Un árbol de decisión es una estructura compuesta de nodos, ramas y hojas. Dada una instancia nueva, ésta es clasificada recorriendo el árbol de decisión: en cada nodo, el árbol hace una pregunta a la instancia sobre algunos de sus atributos. Según la respuesta a esta pregunta, deriva a la instancia por alguna de sus ramas, donde puede ocurrir que aparezca otro nodo -otra pregunta- o que termine en una hoja. La hoja contiene la etiqueta que le corresponde a esa instancia, finalizando su recorrido en el árbol.\n",
    "\n",
    "Suponga que se desea clasificar, con la menor cantidad de preguntas posibles, los siguientes cuatro animales: Águila (Hawk), Pingüino (Penguin), Delfín (Dolphin) y Oso (Bear). Tan solo haciendo tres preguntas, en dos niveles, es posible identificar a que animal corresponde. Observe el siguiente diagrama.\n",
    "\n",
    "![imagen tomada del GitHub](https://github.com/stivenlopezg/Diplomado-Python/blob/master/imagenes/animals.png\")"
   ],
   "metadata": {
    "collapsed": false,
    "pycharm": {
     "name": "#%% md\n"
    }
   }
  },
  {
   "cell_type": "code",
   "execution_count": 1,
   "outputs": [],
   "source": [
    "import warnings\n",
    "import numpy as np\n",
    "import pandas as pd\n",
    "from sklearn.tree import DecisionTreeClassifier\n",
    "from sklearn.ensemble import RandomForestClassifier\n",
    "from sklearn.pipeline import make_pipeline\n",
    "from sklearn.preprocessing import StandardScaler, OneHotEncoder\n",
    "from sklearn.compose import make_column_transformer\n",
    "from sklearn.model_selection import train_test_split, GridSearchCV, RandomizedSearchCV\n",
    "from sklearn.metrics import classification_report, accuracy_score, precision_score, recall_score, f1_score\n",
    "\n",
    "warnings.filterwarnings(action='ignore')"
   ],
   "metadata": {
    "collapsed": false,
    "pycharm": {
     "name": "#%%\n"
    }
   }
  },
  {
   "cell_type": "code",
   "execution_count": 2,
   "outputs": [
    {
     "data": {
      "text/plain": "          CustomerId     Surname  CreditScore Geography Gender  Age  Tenure  \\\nRowNumber                                                                     \n4691        15681990  Palmerston          497   Germany   Male   24       6   \n707         15776231        Kent          626   Germany   Male   35       4   \n8874        15810839      Rogers          610    France   Male   34       0   \n3922        15743871   Nkemdirim          567    France   Male   59       3   \n\n             Balance  NumOfProducts  HasCrCard  IsActiveMember  \\\nRowNumber                                                        \n4691       111769.14              2          1               0   \n707         88109.81              1          1               1   \n8874       103108.17              1          0               0   \n3922            0.00              2          1               0   \n\n           EstimatedSalary  Exited  \nRowNumber                           \n4691              55859.27       0  \n707               32825.50       0  \n8874             125646.82       0  \n3922              25843.70       1  ",
      "text/html": "<div>\n<style scoped>\n    .dataframe tbody tr th:only-of-type {\n        vertical-align: middle;\n    }\n\n    .dataframe tbody tr th {\n        vertical-align: top;\n    }\n\n    .dataframe thead th {\n        text-align: right;\n    }\n</style>\n<table border=\"1\" class=\"dataframe\">\n  <thead>\n    <tr style=\"text-align: right;\">\n      <th></th>\n      <th>CustomerId</th>\n      <th>Surname</th>\n      <th>CreditScore</th>\n      <th>Geography</th>\n      <th>Gender</th>\n      <th>Age</th>\n      <th>Tenure</th>\n      <th>Balance</th>\n      <th>NumOfProducts</th>\n      <th>HasCrCard</th>\n      <th>IsActiveMember</th>\n      <th>EstimatedSalary</th>\n      <th>Exited</th>\n    </tr>\n    <tr>\n      <th>RowNumber</th>\n      <th></th>\n      <th></th>\n      <th></th>\n      <th></th>\n      <th></th>\n      <th></th>\n      <th></th>\n      <th></th>\n      <th></th>\n      <th></th>\n      <th></th>\n      <th></th>\n      <th></th>\n    </tr>\n  </thead>\n  <tbody>\n    <tr>\n      <th>4691</th>\n      <td>15681990</td>\n      <td>Palmerston</td>\n      <td>497</td>\n      <td>Germany</td>\n      <td>Male</td>\n      <td>24</td>\n      <td>6</td>\n      <td>111769.14</td>\n      <td>2</td>\n      <td>1</td>\n      <td>0</td>\n      <td>55859.27</td>\n      <td>0</td>\n    </tr>\n    <tr>\n      <th>707</th>\n      <td>15776231</td>\n      <td>Kent</td>\n      <td>626</td>\n      <td>Germany</td>\n      <td>Male</td>\n      <td>35</td>\n      <td>4</td>\n      <td>88109.81</td>\n      <td>1</td>\n      <td>1</td>\n      <td>1</td>\n      <td>32825.50</td>\n      <td>0</td>\n    </tr>\n    <tr>\n      <th>8874</th>\n      <td>15810839</td>\n      <td>Rogers</td>\n      <td>610</td>\n      <td>France</td>\n      <td>Male</td>\n      <td>34</td>\n      <td>0</td>\n      <td>103108.17</td>\n      <td>1</td>\n      <td>0</td>\n      <td>0</td>\n      <td>125646.82</td>\n      <td>0</td>\n    </tr>\n    <tr>\n      <th>3922</th>\n      <td>15743871</td>\n      <td>Nkemdirim</td>\n      <td>567</td>\n      <td>France</td>\n      <td>Male</td>\n      <td>59</td>\n      <td>3</td>\n      <td>0.00</td>\n      <td>2</td>\n      <td>1</td>\n      <td>0</td>\n      <td>25843.70</td>\n      <td>1</td>\n    </tr>\n  </tbody>\n</table>\n</div>"
     },
     "execution_count": 2,
     "metadata": {},
     "output_type": "execute_result"
    }
   ],
   "source": [
    "churn = pd.read_csv('../data/Churn_Modelling.csv', index_col=0, dtype={'CustomerId': object})\n",
    "churn.sample(4)"
   ],
   "metadata": {
    "collapsed": false,
    "pycharm": {
     "name": "#%%\n"
    }
   }
  },
  {
   "cell_type": "code",
   "execution_count": 3,
   "outputs": [
    {
     "name": "stdout",
     "output_type": "stream",
     "text": [
      "<class 'pandas.core.frame.DataFrame'>\n",
      "Int64Index: 10000 entries, 1 to 10000\n",
      "Data columns (total 13 columns):\n",
      " #   Column           Non-Null Count  Dtype  \n",
      "---  ------           --------------  -----  \n",
      " 0   CustomerId       10000 non-null  object \n",
      " 1   Surname          10000 non-null  object \n",
      " 2   CreditScore      10000 non-null  int64  \n",
      " 3   Geography        10000 non-null  object \n",
      " 4   Gender           10000 non-null  object \n",
      " 5   Age              10000 non-null  int64  \n",
      " 6   Tenure           10000 non-null  int64  \n",
      " 7   Balance          10000 non-null  float64\n",
      " 8   NumOfProducts    10000 non-null  int64  \n",
      " 9   HasCrCard        10000 non-null  int64  \n",
      " 10  IsActiveMember   10000 non-null  int64  \n",
      " 11  EstimatedSalary  10000 non-null  float64\n",
      " 12  Exited           10000 non-null  int64  \n",
      "dtypes: float64(2), int64(7), object(4)\n",
      "memory usage: 1.1+ MB\n"
     ]
    }
   ],
   "source": [
    "churn.info()\n"
   ],
   "metadata": {
    "collapsed": false,
    "pycharm": {
     "name": "#%%\n"
    }
   }
  },
  {
   "cell_type": "code",
   "execution_count": 4,
   "outputs": [],
   "source": [
    "mapper = {0: 'No', 1: 'Si'}\n",
    "\n",
    "for column in ['HasCrCard', 'IsActiveMember']:\n",
    "    churn[column] = churn[column].map(mapper)"
   ],
   "metadata": {
    "collapsed": false,
    "pycharm": {
     "name": "#%%\n"
    }
   }
  },
  {
   "cell_type": "code",
   "execution_count": 5,
   "outputs": [
    {
     "data": {
      "text/plain": "        CreditScore           Age        Tenure        Balance  NumOfProducts  \\\ncount  10000.000000  10000.000000  10000.000000   10000.000000   10000.000000   \nmean     650.528800     38.921800      5.012800   76485.889288       1.530200   \nstd       96.653299     10.487806      2.892174   62397.405202       0.581654   \nmin      350.000000     18.000000      0.000000       0.000000       1.000000   \n25%      584.000000     32.000000      3.000000       0.000000       1.000000   \n50%      652.000000     37.000000      5.000000   97198.540000       1.000000   \n75%      718.000000     44.000000      7.000000  127644.240000       2.000000   \nmax      850.000000     92.000000     10.000000  250898.090000       4.000000   \n\n       EstimatedSalary        Exited  \ncount     10000.000000  10000.000000  \nmean     100090.239881      0.203700  \nstd       57510.492818      0.402769  \nmin          11.580000      0.000000  \n25%       51002.110000      0.000000  \n50%      100193.915000      0.000000  \n75%      149388.247500      0.000000  \nmax      199992.480000      1.000000  ",
      "text/html": "<div>\n<style scoped>\n    .dataframe tbody tr th:only-of-type {\n        vertical-align: middle;\n    }\n\n    .dataframe tbody tr th {\n        vertical-align: top;\n    }\n\n    .dataframe thead th {\n        text-align: right;\n    }\n</style>\n<table border=\"1\" class=\"dataframe\">\n  <thead>\n    <tr style=\"text-align: right;\">\n      <th></th>\n      <th>CreditScore</th>\n      <th>Age</th>\n      <th>Tenure</th>\n      <th>Balance</th>\n      <th>NumOfProducts</th>\n      <th>EstimatedSalary</th>\n      <th>Exited</th>\n    </tr>\n  </thead>\n  <tbody>\n    <tr>\n      <th>count</th>\n      <td>10000.000000</td>\n      <td>10000.000000</td>\n      <td>10000.000000</td>\n      <td>10000.000000</td>\n      <td>10000.000000</td>\n      <td>10000.000000</td>\n      <td>10000.000000</td>\n    </tr>\n    <tr>\n      <th>mean</th>\n      <td>650.528800</td>\n      <td>38.921800</td>\n      <td>5.012800</td>\n      <td>76485.889288</td>\n      <td>1.530200</td>\n      <td>100090.239881</td>\n      <td>0.203700</td>\n    </tr>\n    <tr>\n      <th>std</th>\n      <td>96.653299</td>\n      <td>10.487806</td>\n      <td>2.892174</td>\n      <td>62397.405202</td>\n      <td>0.581654</td>\n      <td>57510.492818</td>\n      <td>0.402769</td>\n    </tr>\n    <tr>\n      <th>min</th>\n      <td>350.000000</td>\n      <td>18.000000</td>\n      <td>0.000000</td>\n      <td>0.000000</td>\n      <td>1.000000</td>\n      <td>11.580000</td>\n      <td>0.000000</td>\n    </tr>\n    <tr>\n      <th>25%</th>\n      <td>584.000000</td>\n      <td>32.000000</td>\n      <td>3.000000</td>\n      <td>0.000000</td>\n      <td>1.000000</td>\n      <td>51002.110000</td>\n      <td>0.000000</td>\n    </tr>\n    <tr>\n      <th>50%</th>\n      <td>652.000000</td>\n      <td>37.000000</td>\n      <td>5.000000</td>\n      <td>97198.540000</td>\n      <td>1.000000</td>\n      <td>100193.915000</td>\n      <td>0.000000</td>\n    </tr>\n    <tr>\n      <th>75%</th>\n      <td>718.000000</td>\n      <td>44.000000</td>\n      <td>7.000000</td>\n      <td>127644.240000</td>\n      <td>2.000000</td>\n      <td>149388.247500</td>\n      <td>0.000000</td>\n    </tr>\n    <tr>\n      <th>max</th>\n      <td>850.000000</td>\n      <td>92.000000</td>\n      <td>10.000000</td>\n      <td>250898.090000</td>\n      <td>4.000000</td>\n      <td>199992.480000</td>\n      <td>1.000000</td>\n    </tr>\n  </tbody>\n</table>\n</div>"
     },
     "execution_count": 5,
     "metadata": {},
     "output_type": "execute_result"
    }
   ],
   "source": [
    "churn.describe()"
   ],
   "metadata": {
    "collapsed": false,
    "pycharm": {
     "name": "#%%\n"
    }
   }
  },
  {
   "cell_type": "code",
   "execution_count": 6,
   "outputs": [
    {
     "data": {
      "text/plain": "       CustomerId Surname Geography Gender HasCrCard IsActiveMember\ncount       10000   10000     10000  10000     10000          10000\nunique      10000    2932         3      2         2              2\ntop      15689201   Smith    France   Male        Si             Si\nfreq            1      32      5014   5457      7055           5151",
      "text/html": "<div>\n<style scoped>\n    .dataframe tbody tr th:only-of-type {\n        vertical-align: middle;\n    }\n\n    .dataframe tbody tr th {\n        vertical-align: top;\n    }\n\n    .dataframe thead th {\n        text-align: right;\n    }\n</style>\n<table border=\"1\" class=\"dataframe\">\n  <thead>\n    <tr style=\"text-align: right;\">\n      <th></th>\n      <th>CustomerId</th>\n      <th>Surname</th>\n      <th>Geography</th>\n      <th>Gender</th>\n      <th>HasCrCard</th>\n      <th>IsActiveMember</th>\n    </tr>\n  </thead>\n  <tbody>\n    <tr>\n      <th>count</th>\n      <td>10000</td>\n      <td>10000</td>\n      <td>10000</td>\n      <td>10000</td>\n      <td>10000</td>\n      <td>10000</td>\n    </tr>\n    <tr>\n      <th>unique</th>\n      <td>10000</td>\n      <td>2932</td>\n      <td>3</td>\n      <td>2</td>\n      <td>2</td>\n      <td>2</td>\n    </tr>\n    <tr>\n      <th>top</th>\n      <td>15689201</td>\n      <td>Smith</td>\n      <td>France</td>\n      <td>Male</td>\n      <td>Si</td>\n      <td>Si</td>\n    </tr>\n    <tr>\n      <th>freq</th>\n      <td>1</td>\n      <td>32</td>\n      <td>5014</td>\n      <td>5457</td>\n      <td>7055</td>\n      <td>5151</td>\n    </tr>\n  </tbody>\n</table>\n</div>"
     },
     "execution_count": 6,
     "metadata": {},
     "output_type": "execute_result"
    }
   ],
   "source": [
    "churn.describe(exclude='number')"
   ],
   "metadata": {
    "collapsed": false,
    "pycharm": {
     "name": "#%%\n"
    }
   }
  },
  {
   "cell_type": "code",
   "execution_count": 7,
   "outputs": [
    {
     "data": {
      "text/plain": "0    0.7963\n1    0.2037\nName: Exited, dtype: float64"
     },
     "execution_count": 7,
     "metadata": {},
     "output_type": "execute_result"
    }
   ],
   "source": [
    "churn['Exited'].value_counts(normalize=True)"
   ],
   "metadata": {
    "collapsed": false,
    "pycharm": {
     "name": "#%%\n"
    }
   }
  },
  {
   "cell_type": "code",
   "execution_count": 8,
   "outputs": [],
   "source": [
    "exited = churn.pop('Exited')\n",
    "\n",
    "train_data, test_data, train_label, test_label = train_test_split(churn, exited,\n",
    "                                                                  test_size=0.3,\n",
    "                                                                  random_state=42,\n",
    "                                                                  stratify=exited)"
   ],
   "metadata": {
    "collapsed": false,
    "pycharm": {
     "name": "#%%\n"
    }
   }
  },
  {
   "cell_type": "code",
   "execution_count": 9,
   "outputs": [
    {
     "name": "stdout",
     "output_type": "stream",
     "text": [
      "La Exactitud en los datos de entrenamiento es: 0.8495714285714285\n"
     ]
    }
   ],
   "source": [
    "numerical_features = ['CreditScore', 'Age', 'Tenure',\n",
    "                      'Balance', 'NumOfProducts', 'EstimatedSalary']\n",
    "\n",
    "categorical_features = ['Geography', 'Gender', 'HasCrCard', 'IsActiveMember']\n",
    "\n",
    "preprocessor = make_column_transformer((StandardScaler(), numerical_features),\n",
    "                                       (OneHotEncoder(handle_unknown='ignore',\n",
    "                                                      sparse=False), categorical_features), remainder='drop')\n",
    "\n",
    "dtree = make_pipeline(preprocessor, DecisionTreeClassifier(criterion='gini',\n",
    "                                                           max_depth=4,\n",
    "                                                           random_state=42))\n",
    "\n",
    "dtree.fit(train_data, train_label)\n",
    "\n",
    "print(f'La Exactitud en los datos de entrenamiento es: {dtree.score(train_data, train_label)}')"
   ],
   "metadata": {
    "collapsed": false,
    "pycharm": {
     "name": "#%%\n"
    }
   }
  },
  {
   "cell_type": "markdown",
   "source": [
    "##### Random Forest\n",
    "\n",
    "El Random Forest es un método de ensamble, estos métodos unen diferentes tipos de algoritmos o el mismo algoritmo múltiples veces con el fin de crear un predictor más robusto.\n",
    "\n",
    "El Random Forest es un ensamble de árboles de decisión en el cual en el entrenamiento se realiza usando bootstraping, y la decisión final se toma con el valor más frecuente (clasificación) o el promedio (regresión) de las predicciones de cada árbol.\n",
    "\n",
    "![](http://www.globalsoftwaresupport.com/wp-content/uploads/2018/02/ggff5544hh.png)"
   ],
   "metadata": {
    "collapsed": false,
    "pycharm": {
     "name": "#%% md\n"
    }
   }
  },
  {
   "cell_type": "code",
   "execution_count": 10,
   "outputs": [
    {
     "name": "stdout",
     "output_type": "stream",
     "text": [
      "La exactitud en los datos de entrenamiento es: 0.836\n"
     ]
    }
   ],
   "source": [
    "random_forest = make_pipeline(preprocessor, RandomForestClassifier(n_estimators=100,\n",
    "                                                                   max_depth=4,\n",
    "                                                                   n_jobs=-1,\n",
    "                                                                   random_state=42))\n",
    "random_forest.fit(train_data, train_label)\n",
    "\n",
    "print(f'La exactitud en los datos de entrenamiento es: {random_forest.score(train_data, train_label)}')"
   ],
   "metadata": {
    "collapsed": false,
    "pycharm": {
     "name": "#%%\n"
    }
   }
  },
  {
   "cell_type": "markdown",
   "source": [
    "#### ¿Cómo medimos el desempeño de nuestro modelo?\n",
    "\n",
    "##### Matriz de confusión\n",
    "\n",
    "La matriz de confusión de un problema de ***n*** clases, es una matriz **nxn** en la que las filas se nombran según las clases reales y las columnas, según las clases previstas por el modelo.\n",
    "\n",
    "Sin embargo, hay otras formas de resumir una matriz de confusión.\n",
    "\n",
    "* **Exactitud**, mide la fracción de muestras clasificadas correctamente:\n",
    "\n",
    "$$\\text{Accuracy} = \\frac{TP + TN}{TP + TN + FP + FN}$$\n",
    "\n",
    "* **Precision**, mide cuántas de las muestras predichas como positivas son realmente positivas:\n",
    "\n",
    "$$\\text{Precision} = \\frac{TP}{TP + FP}$$\n",
    "\n",
    "La precisión se utiliza como una métrica de rendimiento cuando el objetivo es limitar el número de falsos positivos.\n",
    "\n",
    "* **Recall**, mide cuántas de las muestras positivas son capturadas por las predicciones positivas:\n",
    "\n",
    "$$\\text{Recall} = \\frac{TP}{TP + FN}$$\n",
    "\n",
    "El recall se utiliza como métrica de rendimiento cuando necesitamos identificar todas las muestras positivas; es decir, cuando es importante evitar falsos negativos.\n",
    "\n",
    "* **Puntaje F**, es la media armónica entre *Precision* y *Recall*:\n",
    "\n",
    "$$f = 2  \\frac{\\text{Precisión}*\\text{Exhaustividad}}{\\text{Precisión}+\\text{Exhaustividad}}$$"
   ],
   "metadata": {
    "collapsed": false,
    "pycharm": {
     "name": "#%% md\n"
    }
   }
  },
  {
   "cell_type": "code",
   "execution_count": 11,
   "outputs": [],
   "source": [
    "class ModelEvaluation:\n",
    "    def __init__(self, observed: pd.Series or list, predicted: pd.Series or list):\n",
    "        self.observed = observed\n",
    "        self.predicted = predicted\n",
    "        self.metrics = None\n",
    "\n",
    "    def generate_report(self):\n",
    "        report = np.round(pd.DataFrame(classification_report(y_true=self.observed,\n",
    "                                                            y_pred=self.predicted, output_dict=True)), 2).T\n",
    "        return report\n",
    "\n",
    "    def confusion_matrix(self, normalize: bool = True):\n",
    "        if normalize:\n",
    "            cm = np.round(pd.crosstab(index=self.observed, columns=self.predicted,\n",
    "                                      rownames=['Observed'], colnames=['Predicted'], normalize='index'), 2)\n",
    "        else:\n",
    "            cm = np.round(pd.crosstab(index=self.observed, columns=self.predicted,\n",
    "                                      rownames=['Observed'], colnames=['Predicted']), 2)\n",
    "        return cm\n",
    "\n",
    "    def calculate_metrics(self):\n",
    "        self.metrics = {'accuracy': np.round(accuracy_score(y_true=self.observed, y_pred=self.predicted), 2),\n",
    "            'precision': np.round(precision_score(y_true=self.observed, y_pred=self.predicted), 2),\n",
    "            'recall': np.round(recall_score(y_true=self.observed, y_pred=self.predicted), 2),\n",
    "            'f1': np.round(f1_score(y_true=self.observed, y_pred=self.predicted), 2)}\n",
    "        return self.metrics\n",
    "\n",
    "    def print_metrics(self):\n",
    "        print(f'La exactitud es: {self.metrics[\"accuracy\"]}')\n",
    "        print(f'La precision es: {self.metrics[\"precision\"]}')\n",
    "        print(f'El recall es: {self.metrics[\"recall\"]}')\n",
    "        print(f'El puntaje F es: {self.metrics[\"f1\"]}')"
   ],
   "metadata": {
    "collapsed": false,
    "pycharm": {
     "name": "#%%\n"
    }
   }
  },
  {
   "cell_type": "markdown",
   "source": [
    "##### Búsqueda de los mejores hiperparametros\n",
    "\n",
    "Para hallar los mejores hiperparametros podemos usar las clases ***GridSearchCV*** o ***RandomSearchCV***."
   ],
   "metadata": {
    "collapsed": false
   }
  },
  {
   "cell_type": "code",
   "execution_count": 12,
   "outputs": [
    {
     "name": "stdout",
     "output_type": "stream",
     "text": [
      "La exactitud es: 0.86\n",
      "La precision es: 0.74\n",
      "El recall es: 0.44\n",
      "El puntaje F es: 0.55\n"
     ]
    },
    {
     "data": {
      "text/plain": "Predicted     0     1\nObserved             \n0          0.96  0.04\n1          0.56  0.44",
      "text/html": "<div>\n<style scoped>\n    .dataframe tbody tr th:only-of-type {\n        vertical-align: middle;\n    }\n\n    .dataframe tbody tr th {\n        vertical-align: top;\n    }\n\n    .dataframe thead th {\n        text-align: right;\n    }\n</style>\n<table border=\"1\" class=\"dataframe\">\n  <thead>\n    <tr style=\"text-align: right;\">\n      <th>Predicted</th>\n      <th>0</th>\n      <th>1</th>\n    </tr>\n    <tr>\n      <th>Observed</th>\n      <th></th>\n      <th></th>\n    </tr>\n  </thead>\n  <tbody>\n    <tr>\n      <th>0</th>\n      <td>0.96</td>\n      <td>0.04</td>\n    </tr>\n    <tr>\n      <th>1</th>\n      <td>0.56</td>\n      <td>0.44</td>\n    </tr>\n  </tbody>\n</table>\n</div>"
     },
     "execution_count": 12,
     "metadata": {},
     "output_type": "execute_result"
    }
   ],
   "source": [
    "evaluation_dtree = ModelEvaluation(observed=test_label, predicted=dtree.predict(test_data))\n",
    "\n",
    "evaluation_dtree.calculate_metrics()\n",
    "evaluation_dtree.print_metrics()\n",
    "evaluation_dtree.confusion_matrix(normalize=True)"
   ],
   "metadata": {
    "collapsed": false,
    "pycharm": {
     "name": "#%%\n"
    }
   }
  },
  {
   "cell_type": "code",
   "execution_count": 13,
   "outputs": [
    {
     "name": "stdout",
     "output_type": "stream",
     "text": [
      "La exactitud es: 0.84\n",
      "La precision es: 0.92\n",
      "El recall es: 0.22\n",
      "El puntaje F es: 0.36\n"
     ]
    },
    {
     "data": {
      "text/plain": "Predicted     0     1\nObserved             \n0          0.99  0.01\n1          0.78  0.22",
      "text/html": "<div>\n<style scoped>\n    .dataframe tbody tr th:only-of-type {\n        vertical-align: middle;\n    }\n\n    .dataframe tbody tr th {\n        vertical-align: top;\n    }\n\n    .dataframe thead th {\n        text-align: right;\n    }\n</style>\n<table border=\"1\" class=\"dataframe\">\n  <thead>\n    <tr style=\"text-align: right;\">\n      <th>Predicted</th>\n      <th>0</th>\n      <th>1</th>\n    </tr>\n    <tr>\n      <th>Observed</th>\n      <th></th>\n      <th></th>\n    </tr>\n  </thead>\n  <tbody>\n    <tr>\n      <th>0</th>\n      <td>0.99</td>\n      <td>0.01</td>\n    </tr>\n    <tr>\n      <th>1</th>\n      <td>0.78</td>\n      <td>0.22</td>\n    </tr>\n  </tbody>\n</table>\n</div>"
     },
     "execution_count": 13,
     "metadata": {},
     "output_type": "execute_result"
    }
   ],
   "source": [
    "evaluation_rf = ModelEvaluation(observed=test_label, predicted=random_forest.predict(test_data))\n",
    "\n",
    "evaluation_rf.calculate_metrics()\n",
    "evaluation_rf.print_metrics()\n",
    "evaluation_rf.confusion_matrix()"
   ],
   "metadata": {
    "collapsed": false,
    "pycharm": {
     "name": "#%%\n"
    }
   }
  },
  {
   "cell_type": "markdown",
   "source": [
    "### Búsqueda de los mejores hiperparametros\n",
    "\n",
    "Para hallar los mejores hiperparametros podemos usar las clases ***GridSearchCV*** o ***RandomSearchCV***."
   ],
   "metadata": {
    "collapsed": false,
    "pycharm": {
     "name": "#%% md\n"
    }
   }
  },
  {
   "cell_type": "code",
   "execution_count": 14,
   "outputs": [
    {
     "data": {
      "text/plain": "RandomizedSearchCV(cv=2,\n                   estimator=Pipeline(steps=[('columntransformer',\n                                              ColumnTransformer(transformers=[('standardscaler',\n                                                                               StandardScaler(),\n                                                                               ['CreditScore',\n                                                                                'Age',\n                                                                                'Tenure',\n                                                                                'Balance',\n                                                                                'NumOfProducts',\n                                                                                'EstimatedSalary']),\n                                                                              ('onehotencoder',\n                                                                               OneHotEncoder(handle_unknown='ignore',\n                                                                                             sparse=False),\n                                                                               ['Geography',\n                                                                                'Gender',\n                                                                                'HasCrCard',\n                                                                                'IsActiveMember'])])),\n                                             ('decisiontreeclassifier',\n                                              DecisionTreeClassifier(random_state=42))]),\n                   n_jobs=-1,\n                   param_distributions={'decisiontreeclassifier__class_weight': [None,\n                                                                                 'balanced'],\n                                        'decisiontreeclassifier__criterion': ['gini',\n                                                                              'entropy'],\n                                        'decisiontreeclassifier__max_depth': [3,\n                                                                              5]},\n                   random_state=42, scoring='recall')"
     },
     "execution_count": 14,
     "metadata": {},
     "output_type": "execute_result"
    }
   ],
   "source": [
    "params = {\n",
    "    'decisiontreeclassifier__criterion': ['gini', 'entropy'],\n",
    "    'decisiontreeclassifier__max_depth': [3, 5],\n",
    "    'decisiontreeclassifier__class_weight': [None, 'balanced']\n",
    "}\n",
    "\n",
    "dtree = make_pipeline(preprocessor, DecisionTreeClassifier(random_state=42))\n",
    "\n",
    "dtree_cv = RandomizedSearchCV(estimator=dtree, param_distributions=params,\n",
    "                              scoring='recall', n_jobs=-1, cv=2, random_state=42)\n",
    "\n",
    "dtree_cv.fit(train_data, train_label)"
   ],
   "metadata": {
    "collapsed": false,
    "pycharm": {
     "name": "#%%\n"
    }
   }
  },
  {
   "cell_type": "code",
   "execution_count": 15,
   "outputs": [
    {
     "name": "stdout",
     "output_type": "stream",
     "text": [
      "La exactitud es: 0.76\n",
      "La precision es: 0.45\n",
      "El recall es: 0.8\n",
      "El puntaje F es: 0.57\n"
     ]
    },
    {
     "data": {
      "text/plain": "Predicted     0     1\nObserved             \n0          0.75  0.25\n1          0.20  0.80",
      "text/html": "<div>\n<style scoped>\n    .dataframe tbody tr th:only-of-type {\n        vertical-align: middle;\n    }\n\n    .dataframe tbody tr th {\n        vertical-align: top;\n    }\n\n    .dataframe thead th {\n        text-align: right;\n    }\n</style>\n<table border=\"1\" class=\"dataframe\">\n  <thead>\n    <tr style=\"text-align: right;\">\n      <th>Predicted</th>\n      <th>0</th>\n      <th>1</th>\n    </tr>\n    <tr>\n      <th>Observed</th>\n      <th></th>\n      <th></th>\n    </tr>\n  </thead>\n  <tbody>\n    <tr>\n      <th>0</th>\n      <td>0.75</td>\n      <td>0.25</td>\n    </tr>\n    <tr>\n      <th>1</th>\n      <td>0.20</td>\n      <td>0.80</td>\n    </tr>\n  </tbody>\n</table>\n</div>"
     },
     "execution_count": 15,
     "metadata": {},
     "output_type": "execute_result"
    }
   ],
   "source": [
    "evaluation_dtree_cv = ModelEvaluation(observed=test_label, predicted=dtree_cv.predict(test_data))\n",
    "\n",
    "evaluation_dtree_cv.calculate_metrics()\n",
    "evaluation_dtree_cv.print_metrics()\n",
    "evaluation_dtree_cv.confusion_matrix()"
   ],
   "metadata": {
    "collapsed": false,
    "pycharm": {
     "name": "#%%\n"
    }
   }
  },
  {
   "cell_type": "code",
   "execution_count": 16,
   "outputs": [
    {
     "data": {
      "text/plain": "GridSearchCV(cv=2,\n             estimator=Pipeline(steps=[('columntransformer',\n                                        ColumnTransformer(transformers=[('standardscaler',\n                                                                         StandardScaler(),\n                                                                         ['CreditScore',\n                                                                          'Age',\n                                                                          'Tenure',\n                                                                          'Balance',\n                                                                          'NumOfProducts',\n                                                                          'EstimatedSalary']),\n                                                                        ('onehotencoder',\n                                                                         OneHotEncoder(handle_unknown='ignore',\n                                                                                       sparse=False),\n                                                                         ['Geography',\n                                                                          'Gender',\n                                                                          'HasCrCard',\n                                                                          'IsActiveMember'])])),\n                                       ('decisiontreeclassifier',\n                                        DecisionTreeClassifier(random_state=42))]),\n             n_jobs=-1,\n             param_grid={'decisiontreeclassifier__class_weight': [None,\n                                                                  'balanced'],\n                         'decisiontreeclassifier__criterion': ['gini',\n                                                               'entropy'],\n                         'decisiontreeclassifier__max_depth': [3, 5]},\n             scoring='recall')"
     },
     "execution_count": 16,
     "metadata": {},
     "output_type": "execute_result"
    }
   ],
   "source": [
    "params = {\n",
    "    'decisiontreeclassifier__criterion': ['gini', 'entropy'],\n",
    "    'decisiontreeclassifier__max_depth': [3, 5],\n",
    "    'decisiontreeclassifier__class_weight': [None, 'balanced']\n",
    "}\n",
    "\n",
    "dtree = make_pipeline(preprocessor, DecisionTreeClassifier(random_state=42))\n",
    "\n",
    "dtree_cv = GridSearchCV(estimator=dtree, param_grid=params,\n",
    "                        scoring='recall', n_jobs=-1, cv=2)\n",
    "\n",
    "dtree_cv.fit(train_data, train_label)"
   ],
   "metadata": {
    "collapsed": false,
    "pycharm": {
     "name": "#%%\n"
    }
   }
  },
  {
   "cell_type": "code",
   "execution_count": 17,
   "outputs": [
    {
     "name": "stdout",
     "output_type": "stream",
     "text": [
      "La exactitud es: 0.76\n",
      "La precision es: 0.45\n",
      "El recall es: 0.8\n",
      "El puntaje F es: 0.57\n"
     ]
    },
    {
     "data": {
      "text/plain": "Predicted     0     1\nObserved             \n0          0.75  0.25\n1          0.20  0.80",
      "text/html": "<div>\n<style scoped>\n    .dataframe tbody tr th:only-of-type {\n        vertical-align: middle;\n    }\n\n    .dataframe tbody tr th {\n        vertical-align: top;\n    }\n\n    .dataframe thead th {\n        text-align: right;\n    }\n</style>\n<table border=\"1\" class=\"dataframe\">\n  <thead>\n    <tr style=\"text-align: right;\">\n      <th>Predicted</th>\n      <th>0</th>\n      <th>1</th>\n    </tr>\n    <tr>\n      <th>Observed</th>\n      <th></th>\n      <th></th>\n    </tr>\n  </thead>\n  <tbody>\n    <tr>\n      <th>0</th>\n      <td>0.75</td>\n      <td>0.25</td>\n    </tr>\n    <tr>\n      <th>1</th>\n      <td>0.20</td>\n      <td>0.80</td>\n    </tr>\n  </tbody>\n</table>\n</div>"
     },
     "execution_count": 17,
     "metadata": {},
     "output_type": "execute_result"
    }
   ],
   "source": [
    "evaluation_dtree_cv = ModelEvaluation(observed=test_label, predicted=dtree_cv.predict(test_data))\n",
    "\n",
    "evaluation_dtree_cv.calculate_metrics()\n",
    "evaluation_dtree_cv.print_metrics()\n",
    "evaluation_dtree_cv.confusion_matrix()"
   ],
   "metadata": {
    "collapsed": false,
    "pycharm": {
     "name": "#%%\n"
    }
   }
  },
  {
   "cell_type": "code",
   "execution_count": 18,
   "outputs": [
    {
     "data": {
      "text/plain": "{'decisiontreeclassifier__class_weight': 'balanced',\n 'decisiontreeclassifier__criterion': 'entropy',\n 'decisiontreeclassifier__max_depth': 5}"
     },
     "execution_count": 18,
     "metadata": {},
     "output_type": "execute_result"
    }
   ],
   "source": [
    "dtree_cv.best_params_\n"
   ],
   "metadata": {
    "collapsed": false,
    "pycharm": {
     "name": "#%%\n"
    }
   }
  }
 ],
 "metadata": {
  "kernelspec": {
   "display_name": "Python 3",
   "language": "python",
   "name": "python3"
  },
  "language_info": {
   "codemirror_mode": {
    "name": "ipython",
    "version": 2
   },
   "file_extension": ".py",
   "mimetype": "text/x-python",
   "name": "python",
   "nbconvert_exporter": "python",
   "pygments_lexer": "ipython2",
   "version": "2.7.6"
  }
 },
 "nbformat": 4,
 "nbformat_minor": 0
}