{
 "cells": [
  {
   "cell_type": "markdown",
   "source": [
    "# Introducción al Machine Learning\n",
    "\n",
    "En los últimos años, el aprendizaje automático se ha dado a conocer por sus grandes logros, un ejemplo de esto, es el tan conocido clasificador de *Spam*. Aunque el aprendizaje automático ha cogido mucha fuerza en los últimos años, muchos de los algoritmos ya existían desde hace mucho tiempo.\n",
    "\n",
    "Algo muy común es creer que el aprendizaje automático es Inteligencia Artificial, si bien es una rama de la inteligencia artificial, y existe una retroalimentación constante entre ML e IA, no todas las aplicaciones de ML terminan en IA.\n",
    "\n",
    "**¿Que es Machine Learning?**\n",
    "\n",
    "El Machine Learning es la ciencia (y el arte) de programar ordenadores para que aprendan a partir de los datos. Algunas definiciones:\n",
    "\n",
    "* El ML es el campo de estudio que da a los ordenadores la capacidad de aprender sin ser programados de manera explícita. (**Arthur Samuel, 1959**)\n",
    "* Se dice que un programa de ordenador aprende de la experiencia **E**, con respecto a una tarea **T** y una medida de rendimiento **R**, si su rendimiento en **T**, medido por **R**, mejora con la experiencia **E**. (**Tom Mitchell, 1997**)\n",
    "\n",
    "## Tipos de aprendizaje\n",
    "\n",
    "* Aprendizaje supervisado\n",
    "    * Clasificación.\n",
    "        * Clasificación binaria.\n",
    "        * Clasificación multiclase.\n",
    "    * Regresión.\n",
    "\n",
    "* Aprendizaje no supervisado.\n",
    "    * Clustering.\n",
    "    * Reducción de la dimensionalidad.\n",
    "    * Detección de anomalías.\n",
    "\n",
    "* Aprendizaje semi-supervisado\n",
    "* Aprendizaje por refuerzo\n",
    "\n",
    "### Aprendizaje no supervisado\n",
    "\n",
    "Aunque la mayoría de las aplicaciones del Machine Learning se basan hoy en día en el aprendizaje supervisado (y, como resultado, es ahí donde se realizan las mayores inversiones), la inmensa mayoría de los datos disponibles no están etiquetados: tenemos las características de entrada ***X***, pero no tenemos las etiquetas ***y***.\n",
    "\n",
    "#### Clustering\n",
    "\n",
    "El clustering busca particionar el set de datos en grupos, los cuales son llamados *clusters*. El objetivo consiste en separar los datos de tal forma que los puntos dentro de un clúster sean muy similares y se diferencien con puntos de otros clusters.\n",
    "\n",
    "##### K-Means\n",
    "\n",
    "El algoritmo K-Means trata de encontrar los centros de los clusters que sean representativos de ciertas regiones de los datos. El algoritmo alterna tres pasos en su ejecución:\n",
    "\n",
    "1. Se determina un número de clusters.\n",
    "2. Busca alrededor de cada centro los puntos más cercanos.\n",
    "3. Recalcula el centro como el promedio de los puntos dentro de ese cluster.\n",
    "\n",
    "![SegmentLocal](https://media.giphy.com/media/12vVAGkaqHUqCQ/giphy.gif \"segment\")"
   ],
   "metadata": {
    "collapsed": false,
    "pycharm": {
     "name": "#%% md\n"
    }
   }
  },
  {
   "cell_type": "code",
   "execution_count": null,
   "outputs": [],
   "source": [
    "import mglearn"
   ],
   "metadata": {
    "collapsed": false,
    "pycharm": {
     "name": "#%%\n"
    }
   }
  },
  {
   "cell_type": "code",
   "execution_count": null,
   "outputs": [],
   "source": [
    "mglearn.plots.plot_kmeans_algorithm()"
   ],
   "metadata": {
    "collapsed": false,
    "pycharm": {
     "name": "#%%\n"
    }
   }
  },
  {
   "cell_type": "code",
   "execution_count": null,
   "outputs": [],
   "source": [],
   "metadata": {
    "collapsed": false,
    "pycharm": {
     "name": "#%%\n"
    }
   }
  },
  {
   "cell_type": "markdown",
   "source": [
    "##### ¿Cómo determinamos cuantos K?\n",
    "\n",
    "El algoritmo agrupa los datos en *k* grupos, incluso si *k* no es el número correcto de grupos para usar.\n",
    "\n",
    "Un método para validar el número de grupos es el ***método del codo***. La idea del método del codo es ejecutar la agrupación en el set de datos para un rango determinado de *k*, y para cada valor de *k* calcular la suma de los errores al cuadrado (SSE)."
   ],
   "metadata": {
    "collapsed": false,
    "pycharm": {
     "name": "#%% md\n"
    }
   }
  },
  {
   "cell_type": "code",
   "execution_count": null,
   "outputs": [],
   "source": [
    "\n"
   ],
   "metadata": {
    "collapsed": false,
    "pycharm": {
     "name": "#%%\n"
    }
   }
  }
 ],
 "metadata": {
  "kernelspec": {
   "display_name": "Python 3",
   "language": "python",
   "name": "python3"
  },
  "language_info": {
   "codemirror_mode": {
    "name": "ipython",
    "version": 2
   },
   "file_extension": ".py",
   "mimetype": "text/x-python",
   "name": "python",
   "nbconvert_exporter": "python",
   "pygments_lexer": "ipython2",
   "version": "2.7.6"
  }
 },
 "nbformat": 4,
 "nbformat_minor": 0
}