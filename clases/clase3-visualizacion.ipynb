{
 "cells": [
  {
   "cell_type": "markdown",
   "metadata": {
    "collapsed": true,
    "pycharm": {
     "name": "#%% md\n"
    }
   },
   "source": [
    "## Importar módulos (librerías)"
   ]
  },
  {
   "cell_type": "code",
   "execution_count": null,
   "outputs": [],
   "source": [
    "import numpy as np\n",
    "import pandas as pd\n",
    "import seaborn as sns\n",
    "import matplotlib.pyplot as plt"
   ],
   "metadata": {
    "collapsed": false,
    "pycharm": {
     "name": "#%%\n"
    }
   }
  },
  {
   "cell_type": "code",
   "execution_count": null,
   "outputs": [],
   "source": [],
   "metadata": {
    "collapsed": false,
    "pycharm": {
     "name": "#%%\n"
    }
   }
  },
  {
   "cell_type": "markdown",
   "source": [
    "## Trazemos gráficos univariados\n",
    "\n",
    "Cuando hacemos un análisis exploratorio, una de las primeras cosas que hacemos es explorarar cada variable de manera individual en el set de datos.\n",
    "\n",
    "Para las variables númericas es muy común ver la distribución, por ejemplo, gráficando histogramas, boxplot, estimación de densidad del kernel. Por otro lado, para una variable categórica se usan gráficos de barras.\n",
    "\n",
    "Hay varios métodos para hacerlo con *seaborn*:\n",
    "\n",
    "* **sns.countplot()** (gráficos de barras)\n",
    "* **sns.distplot()** (histogramas y estimación de la densidad del kernel)\n",
    "* **sns.boxplot()** (boxplot)"
   ],
   "metadata": {
    "collapsed": false,
    "pycharm": {
     "name": "#%% md\n"
    }
   }
  },
  {
   "cell_type": "code",
   "execution_count": null,
   "outputs": [],
   "source": [],
   "metadata": {
    "collapsed": false,
    "pycharm": {
     "name": "#%%\n"
    }
   }
  },
  {
   "cell_type": "markdown",
   "source": [
    "## Gráficos bivariados\n",
    "\n",
    "Los gráficos univariados nos dan mucha información, sin embargo, no podemos observar relaciones con respecto a otras variables. Así las cosas, gráficos bivariados son aún más informativos, sobretodo para mostrar análisis o incluso construir un modelo.\n",
    "\n",
    "Dado que hay diferentes tipos de variables, se recomiendan algunos gráficos para ver relaciones entre las variables:\n",
    "\n",
    "### Continuo vs Continuo\n",
    "\n",
    "* gráfico de dispersión (scatterplot).\n",
    "* matriz de correlación.\n",
    "\n",
    "### Categórica vs Continua\n",
    "\n",
    "* boxplot.\n",
    "* gráfico de violín.\n",
    "* histogramas superpuestos (se recomienda si la variable categórica tiene 3 o menos categorías)\n",
    "\n",
    "### Categórica vs Categórica\n",
    "\n",
    "* heatmap de la tabla de contingencia.\n",
    "* gráficos de barras apiladas.\n",
    "\n",
    "## Gráficos de dispersión"
   ],
   "metadata": {
    "collapsed": false,
    "pycharm": {
     "name": "#%% md\n"
    }
   }
  },
  {
   "cell_type": "code",
   "execution_count": null,
   "outputs": [],
   "source": [],
   "metadata": {
    "collapsed": false,
    "pycharm": {
     "name": "#%%\n"
    }
   }
  },
  {
   "cell_type": "markdown",
   "source": [
    "## Matriz de correlación"
   ],
   "metadata": {
    "collapsed": false,
    "pycharm": {
     "name": "#%% md\n"
    }
   }
  },
  {
   "cell_type": "code",
   "execution_count": null,
   "outputs": [],
   "source": [],
   "metadata": {
    "collapsed": false,
    "pycharm": {
     "name": "#%%\n"
    }
   }
  },
  {
   "cell_type": "markdown",
   "source": [
    "## Boxplot"
   ],
   "metadata": {
    "collapsed": false,
    "pycharm": {
     "name": "#%% md\n"
    }
   }
  },
  {
   "cell_type": "code",
   "execution_count": null,
   "outputs": [],
   "source": [],
   "metadata": {
    "collapsed": false,
    "pycharm": {
     "name": "#%%\n"
    }
   }
  },
  {
   "cell_type": "markdown",
   "source": [
    "## Gráficos de barras apiladas"
   ],
   "metadata": {
    "collapsed": false,
    "pycharm": {
     "name": "#%% md\n"
    }
   }
  },
  {
   "cell_type": "code",
   "execution_count": null,
   "outputs": [],
   "source": [],
   "metadata": {
    "collapsed": false,
    "pycharm": {
     "name": "#%%\n"
    }
   }
  }
 ],
 "metadata": {
  "kernelspec": {
   "display_name": "Python 3",
   "language": "python",
   "name": "python3"
  },
  "language_info": {
   "codemirror_mode": {
    "name": "ipython",
    "version": 2
   },
   "file_extension": ".py",
   "mimetype": "text/x-python",
   "name": "python",
   "nbconvert_exporter": "python",
   "pygments_lexer": "ipython2",
   "version": "2.7.6"
  }
 },
 "nbformat": 4,
 "nbformat_minor": 0
}