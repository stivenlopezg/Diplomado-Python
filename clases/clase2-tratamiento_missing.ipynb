{
 "cells": [
  {
   "cell_type": "markdown",
   "metadata": {
    "collapsed": true,
    "pycharm": {
     "name": "#%% md\n"
    }
   },
   "source": [
    "## Importar módulos"
   ]
  },
  {
   "cell_type": "code",
   "execution_count": 1,
   "outputs": [],
   "source": [
    "import numpy as np\n",
    "import pandas as pd\n",
    "import missingno as msno"
   ],
   "metadata": {
    "collapsed": false,
    "pycharm": {
     "name": "#%%\n"
    }
   }
  },
  {
   "cell_type": "code",
   "execution_count": null,
   "outputs": [],
   "source": [],
   "metadata": {
    "collapsed": false,
    "pycharm": {
     "name": "#%%\n"
    }
   }
  },
  {
   "cell_type": "markdown",
   "source": [
    "## Inspecciones el DataFrame"
   ],
   "metadata": {
    "collapsed": false,
    "pycharm": {
     "name": "#%% md\n"
    }
   }
  },
  {
   "cell_type": "code",
   "execution_count": null,
   "outputs": [],
   "source": [],
   "metadata": {
    "collapsed": false,
    "pycharm": {
     "name": "#%%\n"
    }
   }
  },
  {
   "cell_type": "markdown",
   "source": [
    "## Pasos para tratar valores missing\n",
    "\n",
    "* Convierta todos los valores missing en valores nulos. En algunos casos, los valoress missing puede aparecer con valores como 999, -1, '?', entre otros.\n",
    "* Analice la cantidad y el tipo de datos que faltan.\n",
    "* Eliminar o imputar adecuadamente los datos missing.\n",
    "* Evaluar y comparar el rendimiento del conjunto de datos tratado/imputado.\n",
    "\n",
    "## Detectemos los valores missing\n",
    "\n",
    "En los casos donde encontramos valoress missing codificados con algún valor, podemos usar el argumento *na_values* del método **.read_csv()** si estamos tratando con un archivo csv."
   ],
   "metadata": {
    "collapsed": false,
    "pycharm": {
     "name": "#%% md\n"
    }
   }
  },
  {
   "cell_type": "code",
   "execution_count": null,
   "outputs": [],
   "source": [],
   "metadata": {
    "collapsed": false,
    "pycharm": {
     "name": "#%%\n"
    }
   }
  },
  {
   "cell_type": "markdown",
   "source": [
    "A veces hay valores missing ocultos, el conocimiento de negocio puede ayudarlo a detectarlos."
   ],
   "metadata": {
    "collapsed": false,
    "pycharm": {
     "name": "#%% md\n"
    }
   }
  },
  {
   "cell_type": "code",
   "execution_count": null,
   "outputs": [],
   "source": [],
   "metadata": {
    "collapsed": false,
    "pycharm": {
     "name": "#%%\n"
    }
   }
  },
  {
   "cell_type": "markdown",
   "source": [
    "## Cantidad de datos missing"
   ],
   "metadata": {
    "collapsed": false,
    "pycharm": {
     "name": "#%% md\n"
    }
   }
  },
  {
   "cell_type": "code",
   "execution_count": null,
   "outputs": [],
   "source": [
    "\n"
   ],
   "metadata": {
    "collapsed": false,
    "pycharm": {
     "name": "#%%\n"
    }
   }
  },
  {
   "cell_type": "markdown",
   "source": [
    "## ¿Existen correlaciones en sus datos missing?\n",
    "\n",
    "Al encontrar correlaciones en las variables que tienen missing, nos ayuda a tener un mejor entendimiento y elegir la mejor forma de tratar los valores missing."
   ],
   "metadata": {
    "collapsed": false,
    "pycharm": {
     "name": "#%% md\n"
    }
   }
  },
  {
   "cell_type": "code",
   "execution_count": null,
   "outputs": [],
   "source": [],
   "metadata": {
    "collapsed": false,
    "pycharm": {
     "name": "#%%\n"
    }
   }
  },
  {
   "cell_type": "markdown",
   "source": [
    "## ¿Cuándo y como eliminar los datos missing?"
   ],
   "metadata": {
    "collapsed": false,
    "pycharm": {
     "name": "#%% md\n"
    }
   }
  },
  {
   "cell_type": "code",
   "execution_count": null,
   "outputs": [],
   "source": [],
   "metadata": {
    "collapsed": false,
    "pycharm": {
     "name": "#%%\n"
    }
   }
  },
  {
   "cell_type": "markdown",
   "source": [
    "## Manejo de datos faltantes\n",
    "\n",
    "Pandas tiene una método **.fillna()** que nos puede ayudar con la imptación de los valores missing."
   ],
   "metadata": {
    "collapsed": false,
    "pycharm": {
     "name": "#%% md\n"
    }
   }
  },
  {
   "cell_type": "code",
   "execution_count": null,
   "outputs": [],
   "source": [],
   "metadata": {
    "collapsed": false,
    "pycharm": {
     "name": "#%%\n"
    }
   }
  },
  {
   "cell_type": "markdown",
   "source": [
    "### Diseño de Scikit-Learn\n",
    "\n",
    "Estos son los principios de diseño más importantes:\n",
    "\n",
    "* **Consistencia**: Todos los objetos comparten una interfaz simple y consistente:\n",
    "    * **Estimadores**: Cualquier objeto que pueda estimar algunos parámetros basándose en un set de datos se llama \"estimador\" (por ejemplo, ***imputer*** es un estimador). La estimación en si la realiza el método **.fit()** y solo toma un conjunto de datos como parámetro (o dos para algoritmos de aprendizaje supervisado; el segundo set de datos contiene las etiquetas). Cualquier otro parámetro necesario para guiar el proceso de estimación se considera un hiperparámetro (como ***strategy*** de **imputer**) y debe establecerse como una variable de instancia (por lo general, mediante un parametro constructor).\n",
    "    * **Transformadores**: Algunos estimadores (como **imputer**) también pueden transformar un conjunto de datos; se denominan transformadores. De nuevo, la API es sencilla: la transformación la lleva a cabo el método **.transform()** con el conjunto de datos para transformar como parámetro. Devuelve el conjunto de datos transformado. Esta transformación suele depender de los parámetros aprendidos, como es el caso de **imputer**.\n",
    "    * **Predictores**: Por últimos, algunos estimadores, cuando se les da un conjunto de datos, son capaces de hacer predicciones; se llaman predictores. Por ejemplo, el modelo ***LinearRegression***. Un predictor tiene un método **.predict()** que toma un conjunto de datos de observaciones nuevas y devuelve un conjunto de datos de predicciones correspondientes. También tiene un método **.score()** que mide la calidad de las predicciones correspondientes, dado un conjunto de prueba (y las etiquetas correspondientes, en el caso de algoritmos de aprendizaje supervisado).\n",
    "\n",
    "* **Inspección**: Todos los hiperparámetros del estimador son accesibles de forma directa mediante variables de instancia públicas (por ejemplo, ***imputer.strategy***) y todos los parámetros aprendidos del estimador son accesibles mediante variables de instancia pública con un guion bajo como sufijo (por ejemplo, ***imputer.statistics_***).\n",
    "* **Composición**: Los bloques de construcción existentes se reutilizan tanto como sea posible. Por ejemplo, es fácil crear un estimador **Pipeline** a partir de una secuencia de transformadores seguida de un estimador final, como veremos más adelante."
   ],
   "metadata": {
    "collapsed": false,
    "pycharm": {
     "name": "#%% md\n"
    }
   }
  },
  {
   "cell_type": "code",
   "execution_count": null,
   "outputs": [],
   "source": [],
   "metadata": {
    "collapsed": false,
    "pycharm": {
     "name": "#%%\n"
    }
   }
  },
  {
   "cell_type": "markdown",
   "source": [
    "## Imputación de datos de series de tiempo\n",
    "\n",
    "Nuevamente el método **.fillna()** nos puede ayudar en las series de tiempo, sin embargo, hay otro método de Pandas que puede ser más preciso, este es **.interpolate()**.\n"
   ],
   "metadata": {
    "collapsed": false,
    "pycharm": {
     "name": "#%% md\n"
    }
   }
  },
  {
   "cell_type": "code",
   "execution_count": null,
   "outputs": [],
   "source": [],
   "metadata": {
    "collapsed": false,
    "pycharm": {
     "name": "#%%\n"
    }
   }
  },
  {
   "cell_type": "markdown",
   "source": [
    "## Outliers\n",
    "\n",
    "En estadística, un valor atípico es un punto de observación que está distante de otras observaciones.\n",
    "\n",
    "## Identificar Outlier un enfoque univariado\n",
    "\n",
    "* Diagrama de caja y bigotes (Boxplot).\n",
    "* Z-Score.\n",
    "* IQR Score"
   ],
   "metadata": {
    "collapsed": false,
    "pycharm": {
     "name": "#%% md\n"
    }
   }
  },
  {
   "cell_type": "code",
   "execution_count": null,
   "outputs": [],
   "source": [],
   "metadata": {
    "collapsed": false,
    "pycharm": {
     "name": "#%%\n"
    }
   }
  },
  {
   "cell_type": "markdown",
   "source": [
    "## Tratamiento\n",
    "\n",
    "* Elimine los datos atípicos si está seguro de que son errores.\n",
    "* Impute los datos atípicos.\n",
    "* Cree variables dummy.\n",
    "* Si su objetivo es construir un modelo, usando algoritmos de ML, use modelos que sean robustos a los datos atípicos, como modelos basados en árbol."
   ],
   "metadata": {
    "collapsed": false,
    "pycharm": {
     "name": "#%% md\n"
    }
   }
  },
  {
   "cell_type": "code",
   "execution_count": null,
   "outputs": [],
   "source": [],
   "metadata": {
    "collapsed": false,
    "pycharm": {
     "name": "#%%\n"
    }
   }
  }
 ],
 "metadata": {
  "kernelspec": {
   "display_name": "Python 3",
   "language": "python",
   "name": "python3"
  },
  "language_info": {
   "codemirror_mode": {
    "name": "ipython",
    "version": 2
   },
   "file_extension": ".py",
   "mimetype": "text/x-python",
   "name": "python",
   "nbconvert_exporter": "python",
   "pygments_lexer": "ipython2",
   "version": "2.7.6"
  }
 },
 "nbformat": 4,
 "nbformat_minor": 0
}